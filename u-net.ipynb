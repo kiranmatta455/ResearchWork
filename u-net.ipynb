{
 "cells": [
  {
   "cell_type": "markdown",
   "metadata": {
    "_cell_guid": "47f9a830-ac23-4470-b780-ed0aa946f434",
    "_uuid": "14e17fcb-69d1-450d-8318-e0b6492a1f2b",
    "papermill": {
     "duration": 0.02553,
     "end_time": "2021-07-05T21:37:28.714122",
     "exception": false,
     "start_time": "2021-07-05T21:37:28.688592",
     "status": "completed"
    },
    "tags": []
   },
   "source": [
    "# Segmentation Network Unet"
   ]
  },
  {
   "cell_type": "code",
   "execution_count": 12,
   "metadata": {
    "_cell_guid": "825084d8-2c8d-43c9-8bea-b4aecbaa14c1",
    "_uuid": "fe7efba4-55eb-43f3-9012-6d532ff04e44",
    "collapsed": false,
    "jupyter": {
     "outputs_hidden": false
    },
    "papermill": {
     "duration": 4.611027,
     "end_time": "2021-07-05T21:37:33.350826",
     "exception": false,
     "start_time": "2021-07-05T21:37:28.739799",
     "status": "completed"
    },
    "tags": []
   },
   "outputs": [
    {
     "ename": "ModuleNotFoundError",
     "evalue": "No module named 'cv2'",
     "output_type": "error",
     "traceback": [
      "\u001b[1;31m---------------------------------------------------------------------------\u001b[0m",
      "\u001b[1;31mModuleNotFoundError\u001b[0m                       Traceback (most recent call last)",
      "Cell \u001b[1;32mIn[12], line 5\u001b[0m\n\u001b[0;32m      3\u001b[0m \u001b[38;5;28;01mimport\u001b[39;00m \u001b[38;5;21;01mpandas\u001b[39;00m \u001b[38;5;28;01mas\u001b[39;00m \u001b[38;5;21;01mpd\u001b[39;00m\n\u001b[0;32m      4\u001b[0m \u001b[38;5;28;01mimport\u001b[39;00m \u001b[38;5;21;01mos\u001b[39;00m\n\u001b[1;32m----> 5\u001b[0m \u001b[38;5;28;01mimport\u001b[39;00m \u001b[38;5;21;01mcv2\u001b[39;00m\n\u001b[0;32m      6\u001b[0m \u001b[38;5;28;01mimport\u001b[39;00m \u001b[38;5;21;01mrandom\u001b[39;00m\n\u001b[0;32m      7\u001b[0m \u001b[38;5;28;01mimport\u001b[39;00m \u001b[38;5;21;01mmatplotlib\u001b[39;00m\u001b[38;5;21;01m.\u001b[39;00m\u001b[38;5;21;01mpyplot\u001b[39;00m \u001b[38;5;28;01mas\u001b[39;00m \u001b[38;5;21;01mplt\u001b[39;00m\n",
      "\u001b[1;31mModuleNotFoundError\u001b[0m: No module named 'cv2'"
     ]
    }
   ],
   "source": [
    "# Importing necessary libraries\n",
    "import numpy as np\n",
    "import pandas as pd\n",
    "import os\n",
    "import cv2\n",
    "import random\n",
    "import matplotlib.pyplot as plt\n",
    "from glob import glob\n",
    "from random import choice, sample\n",
    "from scipy import ndimage\n",
    "from scipy.ndimage import morphology as mp\n",
    "from tqdm import tqdm\n",
    "from pathlib import Path\n",
    "from sklearn.model_selection import train_test_split\n",
    "import tensorflow as tf\n",
    "from tensorflow.keras import backend as K\n",
    "from tensorflow.keras.layers import (Input, Conv2D, MaxPooling2D, Concatenate, Conv2DTranspose,\n",
    "                                     BatchNormalization, Activation, Dropout, UpSampling2D)\n",
    "from tensorflow.keras.optimizers import Adam\n",
    "from tensorflow.keras.models import Model, load_model\n",
    "from tensorflow.keras.utils import plot_model, Sequence\n",
    "from tensorflow.keras.callbacks import (TensorBoard, ModelCheckpoint, EarlyStopping, ReduceLROnPlateau)\n",
    "from tensorflow.keras.preprocessing.image import load_img, img_to_array\n",
    "from tensorflow.keras.applications import VGG16, VGG19"
   ]
  },
  {
   "cell_type": "markdown",
   "metadata": {
    "_cell_guid": "7b39571e-2ec5-418f-a0d6-16f1e819278d",
    "_uuid": "83e9f9d2-7755-4ab6-972a-9570f1add00d",
    "papermill": {
     "duration": 0.024376,
     "end_time": "2021-07-05T21:37:33.400064",
     "exception": false,
     "start_time": "2021-07-05T21:37:33.375688",
     "status": "completed"
    },
    "tags": []
   },
   "source": [
    "# Listing image and their respective labels \n",
    "also here we are asserting the presence of label file w.r.t each image."
   ]
  },
  {
   "cell_type": "code",
   "execution_count": 3,
   "metadata": {
    "_cell_guid": "605c6d1d-d111-4b7c-984b-b3860d05b7b5",
    "_uuid": "bc10a434-f1a6-4a21-8389-f75175843fdd",
    "collapsed": false,
    "jupyter": {
     "outputs_hidden": false
    },
    "papermill": {
     "duration": 0.079812,
     "end_time": "2021-07-05T21:37:33.504097",
     "exception": false,
     "start_time": "2021-07-05T21:37:33.424285",
     "status": "completed"
    },
    "tags": []
   },
   "outputs": [
    {
     "ename": "FileNotFoundError",
     "evalue": "[WinError 3] The system cannot find the path specified: '../input/concatenation-endo/cropped_train/instrument_dataset_1/images/'",
     "output_type": "error",
     "traceback": [
      "\u001b[1;31m---------------------------------------------------------------------------\u001b[0m",
      "\u001b[1;31mFileNotFoundError\u001b[0m                         Traceback (most recent call last)",
      "Cell \u001b[1;32mIn[3], line 3\u001b[0m\n\u001b[0;32m      1\u001b[0m train_img_dir \u001b[38;5;241m=\u001b[39m \u001b[38;5;124m'\u001b[39m\u001b[38;5;124m../input/concatenation-endo/cropped_train/instrument_dataset_1/images/\u001b[39m\u001b[38;5;124m'\u001b[39m \n\u001b[0;32m      2\u001b[0m train_mask_dir \u001b[38;5;241m=\u001b[39m \u001b[38;5;124m'\u001b[39m\u001b[38;5;124m../input/concatenation-endo/cropped_train/instrument_dataset_1/binary_masks/\u001b[39m\u001b[38;5;124m'\u001b[39m\n\u001b[1;32m----> 3\u001b[0m train_imgs \u001b[38;5;241m=\u001b[39m os\u001b[38;5;241m.\u001b[39mlistdir(train_img_dir)\u001b[38;5;66;03m# if you have an error take a look here ...\u001b[39;00m\n\u001b[0;32m      4\u001b[0m train_masks \u001b[38;5;241m=\u001b[39m os\u001b[38;5;241m.\u001b[39mlistdir(train_mask_dir)\n\u001b[0;32m      5\u001b[0m train_imgs\u001b[38;5;241m=\u001b[39m \u001b[38;5;28msorted\u001b[39m([ i \u001b[38;5;28;01mfor\u001b[39;00m i \u001b[38;5;129;01min\u001b[39;00m train_imgs ])\n",
      "\u001b[1;31mFileNotFoundError\u001b[0m: [WinError 3] The system cannot find the path specified: '../input/concatenation-endo/cropped_train/instrument_dataset_1/images/'"
     ]
    }
   ],
   "source": [
    "train_img_dir = '../input/concatenation-endo/cropped_train/instrument_dataset_1/images/' \n",
    "train_mask_dir = '../input/concatenation-endo/cropped_train/instrument_dataset_1/binary_masks/'\n",
    "train_imgs = os.listdir(train_img_dir)# if you have an error take a look here ...\n",
    "train_masks = os.listdir(train_mask_dir)\n",
    "train_imgs= sorted([ i for i in train_imgs ])\n",
    "train_masks= sorted([ i for i in train_masks ])\n",
    "print(len(train_imgs))\n",
    "print(len(train_masks))"
   ]
  },
  {
   "cell_type": "code",
   "execution_count": 6,
   "metadata": {
    "_cell_guid": "26bdf9ea-b77a-4e33-a96f-c184d38bac8a",
    "_uuid": "42dffc91-454e-4e44-a230-d1d402d2d2f9",
    "collapsed": false,
    "execution": {
     "iopub.execute_input": "2024-11-03T13:21:16.506567Z",
     "iopub.status.busy": "2024-11-03T13:21:16.506227Z",
     "iopub.status.idle": "2024-11-03T13:21:16.511787Z",
     "shell.execute_reply": "2024-11-03T13:21:16.510803Z",
     "shell.execute_reply.started": "2024-11-03T13:21:16.506538Z"
    },
    "jupyter": {
     "outputs_hidden": false
    },
    "papermill": {
     "duration": 0.035285,
     "end_time": "2021-07-05T21:37:33.564107",
     "exception": false,
     "start_time": "2021-07-05T21:37:33.528822",
     "status": "completed"
    },
    "tags": []
   },
   "outputs": [
    {
     "name": "stdout",
     "output_type": "stream",
     "text": [
      "['frame000.jpg', 'frame000_h.jpg', 'frame000_v.jpg']\n",
      "['frame000.png', 'frame000_h.png', 'frame000_v.png']\n"
     ]
    }
   ],
   "source": [
    "print(train_imgs[:3])\n",
    "print(train_masks[:3])"
   ]
  },
  {
   "cell_type": "markdown",
   "metadata": {
    "_cell_guid": "87b23eb7-0f6d-4eeb-b360-fc207fc6fb8b",
    "_uuid": "4bfde843-36ae-4dfb-8bab-1664741d4f32",
    "papermill": {
     "duration": 0.024936,
     "end_time": "2021-07-05T21:37:33.614528",
     "exception": false,
     "start_time": "2021-07-05T21:37:33.589592",
     "status": "completed"
    },
    "tags": []
   },
   "source": [
    "**Repeat same steps for validation dataset**"
   ]
  },
  {
   "cell_type": "code",
   "execution_count": null,
   "metadata": {
    "_cell_guid": "c52c0406-e4b7-4c01-b2af-5c61df70669e",
    "_uuid": "1ccd8016-9a9f-4c46-bfa1-52ada7a611f7",
    "collapsed": false,
    "jupyter": {
     "outputs_hidden": false
    },
    "papermill": {
     "duration": 0.033185,
     "end_time": "2021-07-05T21:37:33.672954",
     "exception": false,
     "start_time": "2021-07-05T21:37:33.639769",
     "status": "completed"
    },
    "tags": []
   },
   "outputs": [],
   "source": [
    "val_img_dir =  train_img_dir\n",
    "val_mask_dir = train_mask_dir\n",
    "val_imgs = train_imgs[-25:]#os.listdir(val_mask_dir)\n",
    "val_masks = train_masks[-25:]#os.listdir(val_mask_dir)\n",
    "train_imgs = train_imgs[:-25]\n",
    "train_masks = train_masks[:-25]"
   ]
  },
  {
   "cell_type": "code",
   "execution_count": 8,
   "metadata": {
    "execution": {
     "iopub.execute_input": "2024-11-03T13:21:21.013653Z",
     "iopub.status.busy": "2024-11-03T13:21:21.013244Z",
     "iopub.status.idle": "2024-11-03T13:21:21.018968Z",
     "shell.execute_reply": "2024-11-03T13:21:21.017889Z",
     "shell.execute_reply.started": "2024-11-03T13:21:21.013615Z"
    }
   },
   "outputs": [
    {
     "name": "stdout",
     "output_type": "stream",
     "text": [
      "25\n",
      "25\n"
     ]
    }
   ],
   "source": [
    "print(len(val_imgs))\n",
    "print(len(val_masks))"
   ]
  },
  {
   "cell_type": "markdown",
   "metadata": {
    "_cell_guid": "4d9bf773-a391-4785-99a8-13d762628ff6",
    "_uuid": "97687b96-e5ea-48da-a5c2-6e51a175888a",
    "papermill": {
     "duration": 0.025149,
     "end_time": "2021-07-05T21:37:33.724136",
     "exception": false,
     "start_time": "2021-07-05T21:37:33.698987",
     "status": "completed"
    },
    "tags": []
   },
   "source": [
    "# Here we impliment keras custom data generator to get batch images and labels without loading whole dataset in the active memory"
   ]
  },
  {
   "cell_type": "code",
   "execution_count": 6,
   "metadata": {
    "_cell_guid": "db89f46b-21f8-4cc3-a0fd-bfa91e4c1fdb",
    "_uuid": "b601d58f-2142-4842-8ed9-1f4912d6b553",
    "collapsed": false,
    "jupyter": {
     "outputs_hidden": false
    },
    "papermill": {
     "duration": 0.041289,
     "end_time": "2021-07-05T21:37:33.849628",
     "exception": false,
     "start_time": "2021-07-05T21:37:33.808339",
     "status": "completed"
    },
    "tags": []
   },
   "outputs": [],
   "source": [
    "class DataGenerator(Sequence):\n",
    "    'Generates data for Keras'\n",
    "    \n",
    "    def __init__(self, images,image_dir,labels,label_dir ,batch_size=16, dim=(224,224,3) ,shuffle=True):\n",
    "        'Initialization'\n",
    "        self.dim = dim\n",
    "        self.images = images\n",
    "        self.image_dir = image_dir\n",
    "        self.labels = labels\n",
    "        self.label_dir = label_dir\n",
    "        self.batch_size = batch_size\n",
    "        self.shuffle = shuffle\n",
    "        self.on_epoch_end()\n",
    "\n",
    "    def __len__(self):\n",
    "        'Denotes the number of batches per epoch'\n",
    "        return int(np.floor(len(self.images) / self.batch_size))\n",
    "\n",
    "    def __getitem__(self, index):\n",
    "        'Generate one batch of data'\n",
    "        # Generate indexes of the batch\n",
    "        indexes = self.indexes[index*self.batch_size:(index+1)*self.batch_size]\n",
    "\n",
    "        # Find list of IDs\n",
    "        list_IDs_temp = [k for k in indexes]\n",
    "\n",
    "        # Generate data\n",
    "        X, y = self.__data_generation(list_IDs_temp)\n",
    "\n",
    "        return X, y\n",
    "\n",
    "    def on_epoch_end(self):\n",
    "        'Updates indexes after each epoch'\n",
    "        self.indexes = np.arange(len(self.images))\n",
    "        if self.shuffle == True:\n",
    "            np.random.shuffle(self.indexes)\n",
    "\n",
    "    def __data_generation(self, list_IDs_temp):\n",
    "        'Generates data containing batch_size samples' # X : (n_samples, *dim, n_channels)\n",
    "        # Initialization\n",
    "        batch_imgs = list()\n",
    "        batch_labels = list()\n",
    "\n",
    "        # Generate data\n",
    "        for i in list_IDs_temp:\n",
    "            img = load_img(self.image_dir + self.images[i] ,target_size=self.dim)\n",
    "            img = img_to_array(img)/255.\n",
    "\n",
    "            batch_imgs.append(img)\n",
    "           # Store class\n",
    "            label = load_img(self.label_dir + self.labels[i] ,target_size=self.dim)\n",
    "            label = img_to_array(label)[:,:,0]\n",
    "            label = label != 0\n",
    "            label = mp.binary_erosion(mp.binary_erosion(label))\n",
    "            label = mp.binary_dilation(mp.binary_dilation(mp.binary_dilation(label)))\n",
    "            label = np.expand_dims((label)*1 , axis=2)\n",
    "            batch_labels.append(label)\n",
    "            \n",
    "        return np.array(batch_imgs,dtype = np.float32 ) ,np.array(batch_labels , dtype = np.float32 )"
   ]
  },
  {
   "cell_type": "markdown",
   "metadata": {
    "_cell_guid": "7bd0fcae-918e-41ef-b1be-06871b8e39fa",
    "_uuid": "aed686b3-bef6-41cb-8adb-33289a360981",
    "papermill": {
     "duration": 0.025035,
     "end_time": "2021-07-05T21:37:33.899957",
     "exception": false,
     "start_time": "2021-07-05T21:37:33.874922",
     "status": "completed"
    },
    "tags": []
   },
   "source": [
    " **Now we need to define our training and validation generator using above implimented class.**"
   ]
  },
  {
   "cell_type": "code",
   "execution_count": 10,
   "metadata": {
    "_cell_guid": "924fcac9-62b9-431d-9785-031109be2496",
    "_uuid": "9413b36f-20f1-433b-8c14-4a0930a1efc1",
    "collapsed": false,
    "execution": {
     "iopub.execute_input": "2024-11-03T13:21:28.488796Z",
     "iopub.status.busy": "2024-11-03T13:21:28.488427Z",
     "iopub.status.idle": "2024-11-03T13:21:28.494301Z",
     "shell.execute_reply": "2024-11-03T13:21:28.493476Z",
     "shell.execute_reply.started": "2024-11-03T13:21:28.488760Z"
    },
    "jupyter": {
     "outputs_hidden": false
    },
    "papermill": {
     "duration": 0.033243,
     "end_time": "2021-07-05T21:37:33.958642",
     "exception": false,
     "start_time": "2021-07-05T21:37:33.925399",
     "status": "completed"
    },
    "scrolled": true,
    "tags": []
   },
   "outputs": [
    {
     "name": "stdout",
     "output_type": "stream",
     "text": [
      "Training steps per epoch: 18\n"
     ]
    }
   ],
   "source": [
    "# Instantiate training data generator\n",
    "train_generator = DataGenerator(\n",
    "    train_imgs, train_img_dir, train_masks, train_mask_dir,\n",
    "    batch_size=36, dim=(224, 224, 3), shuffle=True\n",
    ")\n",
    "train_steps = train_generator.__len__()\n",
    "print(f\"Training steps per epoch: {train_steps}\")"
   ]
  },
  {
   "cell_type": "code",
   "execution_count": 11,
   "metadata": {
    "execution": {
     "iopub.execute_input": "2024-11-03T13:21:30.758113Z",
     "iopub.status.busy": "2024-11-03T13:21:30.757727Z",
     "iopub.status.idle": "2024-11-03T13:21:30.763645Z",
     "shell.execute_reply": "2024-11-03T13:21:30.762764Z",
     "shell.execute_reply.started": "2024-11-03T13:21:30.758080Z"
    }
   },
   "outputs": [
    {
     "name": "stdout",
     "output_type": "stream",
     "text": [
      "Validation steps per epoch: 0\n"
     ]
    }
   ],
   "source": [
    "# Instantiate validation data generator\n",
    "val_generator = DataGenerator(\n",
    "    val_imgs, val_img_dir, val_masks, val_mask_dir,\n",
    "    batch_size=36, dim=(224, 224, 3), shuffle=True\n",
    ")\n",
    "val_steps = val_generator.__len__()\n",
    "print(f\"Validation steps per epoch: {val_steps}\")"
   ]
  },
  {
   "cell_type": "markdown",
   "metadata": {},
   "source": [
    "# Data Visualisaton"
   ]
  },
  {
   "cell_type": "code",
   "execution_count": 12,
   "metadata": {
    "execution": {
     "iopub.execute_input": "2024-11-03T13:21:32.854646Z",
     "iopub.status.busy": "2024-11-03T13:21:32.854246Z",
     "iopub.status.idle": "2024-11-03T13:21:33.365109Z",
     "shell.execute_reply": "2024-11-03T13:21:33.364180Z",
     "shell.execute_reply.started": "2024-11-03T13:21:32.854607Z"
    }
   },
   "outputs": [
    {
     "data": {
      "image/png": "[encoded data removed]",
      "text/plain": [
       "<Figure size 864x432 with 2 Axes>"
      ]
     },
     "metadata": {
      "needs_background": "light"
     },
     "output_type": "display_data"
    }
   ],
   "source": [
    "# Visualizing a sample image and its corresponding mask\n",
    "plt.figure(figsize=(12, 6))\n",
    "plt.subplot(1, 2, 1)\n",
    "sample_image = load_img(os.path.join(train_img_dir, train_imgs[0]))\n",
    "plt.imshow(sample_image)\n",
    "plt.title(\"Sample Image\")\n",
    "plt.axis('off')\n",
    "\n",
    "plt.subplot(1, 2, 2)\n",
    "sample_mask = load_img(os.path.join(train_mask_dir, train_masks[0]))\n",
    "plt.imshow(sample_mask)\n",
    "plt.title(\"Sample Mask\")\n",
    "plt.axis('off')\n",
    "\n",
    "plt.show()"
   ]
  },
  {
   "cell_type": "code",
   "execution_count": 13,
   "metadata": {
    "_cell_guid": "2a9c2602-023c-452e-87a3-3e959b87ccb7",
    "_uuid": "dcfc4bac-978e-4c25-8309-d05f50496292",
    "collapsed": false,
    "execution": {
     "iopub.execute_input": "2024-11-03T13:21:36.920114Z",
     "iopub.status.busy": "2024-11-03T13:21:36.919725Z",
     "iopub.status.idle": "2024-11-03T13:21:38.651196Z",
     "shell.execute_reply": "2024-11-03T13:21:38.650278Z",
     "shell.execute_reply.started": "2024-11-03T13:21:36.920076Z"
    },
    "jupyter": {
     "outputs_hidden": false
    },
    "papermill": {
     "duration": 2.422107,
     "end_time": "2021-07-05T21:37:36.458123",
     "exception": false,
     "start_time": "2021-07-05T21:37:34.036016",
     "status": "completed"
    },
    "tags": []
   },
   "outputs": [],
   "source": [
    "X,y = train_generator.__getitem__(1)\n",
    "t = 12"
   ]
  },
  {
   "cell_type": "code",
   "execution_count": 14,
   "metadata": {
    "execution": {
     "iopub.execute_input": "2024-11-03T13:21:39.262204Z",
     "iopub.status.busy": "2024-11-03T13:21:39.261866Z",
     "iopub.status.idle": "2024-11-03T13:21:39.570658Z",
     "shell.execute_reply": "2024-11-03T13:21:39.569749Z",
     "shell.execute_reply.started": "2024-11-03T13:21:39.262171Z"
    }
   },
   "outputs": [
    {
     "data": {
      "text/plain": [
       "<matplotlib.image.AxesImage at 0x7c13ce0e7e90>"
      ]
     },
     "execution_count": 14,
     "metadata": {},
     "output_type": "execute_result"
    },
    {
     "data": {
      "image/png": "[encoded data removed]",
      "text/plain": [
       "<Figure size 576x576 with 2 Axes>"
      ]
     },
     "metadata": {
      "needs_background": "light"
     },
     "output_type": "display_data"
    }
   ],
   "source": [
    "plt.figure(figsize=(8,8))\n",
    "plt.subplot(121)\n",
    "plt.axis('off')\n",
    "plt.imshow(X[t])\n",
    "\n",
    "plt.subplot(122)\n",
    "plt.axis('off')\n",
    "plt.imshow(np.reshape(y[t],(224,224)))"
   ]
  },
  {
   "cell_type": "markdown",
   "metadata": {},
   "source": [
    "# Model Definitions"
   ]
  },
  {
   "cell_type": "markdown",
   "metadata": {},
   "source": [
    "### U-Net with VGG16 Backbone"
   ]
  },
  {
   "cell_type": "code",
   "execution_count": 15,
   "metadata": {
    "_cell_guid": "397d38ab-c3aa-4cb8-917c-e50ee55de86a",
    "_uuid": "77cb4ea2-35ea-41f3-8122-37f0afa93245",
    "collapsed": false,
    "execution": {
     "iopub.execute_input": "2024-11-03T13:21:42.525831Z",
     "iopub.status.busy": "2024-11-03T13:21:42.525494Z",
     "iopub.status.idle": "2024-11-03T13:21:42.531218Z",
     "shell.execute_reply": "2024-11-03T13:21:42.530329Z",
     "shell.execute_reply.started": "2024-11-03T13:21:42.525800Z"
    },
    "jupyter": {
     "outputs_hidden": false
    },
    "papermill": {
     "duration": 2.105778,
     "end_time": "2021-07-05T21:37:38.717952",
     "exception": false,
     "start_time": "2021-07-05T21:37:36.612174",
     "status": "completed"
    },
    "tags": []
   },
   "outputs": [],
   "source": [
    "def conv_block(inputs,filterCount):\n",
    "    x = Conv2D(filterCount,3,padding=\"same\")(inputs)\n",
    "    x = BatchNormalization()(x)\n",
    "    x = Activation(\"relu\")(x)\n",
    "    x = Conv2D(filterCount,3,padding=\"same\")(x)\n",
    "    x = BatchNormalization()(x)\n",
    "    x = Activation(\"relu\")(x)\n",
    "    return x"
   ]
  },
  {
   "cell_type": "code",
   "execution_count": 16,
   "metadata": {
    "_cell_guid": "2b2ca50b-7ef6-46d9-9478-f2c0f7c9026f",
    "_uuid": "bafa094c-6f52-42ef-adee-fb669a449aec",
    "collapsed": false,
    "execution": {
     "iopub.execute_input": "2024-11-03T13:21:46.149158Z",
     "iopub.status.busy": "2024-11-03T13:21:46.148811Z",
     "iopub.status.idle": "2024-11-03T13:21:46.154011Z",
     "shell.execute_reply": "2024-11-03T13:21:46.153116Z",
     "shell.execute_reply.started": "2024-11-03T13:21:46.149129Z"
    },
    "jupyter": {
     "outputs_hidden": false
    },
    "papermill": {
     "duration": 0.056861,
     "end_time": "2021-07-05T21:37:38.804198",
     "exception": false,
     "start_time": "2021-07-05T21:37:38.747337",
     "status": "completed"
    },
    "tags": []
   },
   "outputs": [],
   "source": [
    "def decoder_block(inputs,skip_features,filter_count):\n",
    "    \n",
    "    x = Conv2DTranspose(filter_count, (2, 2), strides=2, padding=\"same\")(inputs)\n",
    "    x = Concatenate()([x, skip_features])\n",
    "    x = conv_block(x, filter_count)\n",
    "    return x"
   ]
  },
  {
   "cell_type": "code",
   "execution_count": 17,
   "metadata": {
    "_cell_guid": "e9766c0e-ad87-437f-8cc4-7ed62a4750c7",
    "_uuid": "ed34a24a-d3d4-44eb-b943-9c8d3167aff9",
    "collapsed": false,
    "execution": {
     "iopub.execute_input": "2024-11-03T13:21:49.632744Z",
     "iopub.status.busy": "2024-11-03T13:21:49.632374Z",
     "iopub.status.idle": "2024-11-03T13:21:49.642205Z",
     "shell.execute_reply": "2024-11-03T13:21:49.641171Z",
     "shell.execute_reply.started": "2024-11-03T13:21:49.632712Z"
    },
    "jupyter": {
     "outputs_hidden": false
    },
    "papermill": {
     "duration": 0.500369,
     "end_time": "2021-07-05T21:37:39.357426",
     "exception": false,
     "start_time": "2021-07-05T21:37:38.857057",
     "status": "completed"
    },
    "tags": []
   },
   "outputs": [],
   "source": [
    "def unet_vgg16(input_shape):\n",
    "    inputs = Input(input_shape)\n",
    "    print(inputs.shape)\n",
    "    vgg16 = VGG16(include_top=False,weights='imagenet',input_tensor = inputs)\n",
    "    #vgg16.summary()\n",
    "    # the encoder \n",
    "    skip1 = vgg16.get_layer(\"block1_conv2\").output\n",
    "    print(skip1.shape)\n",
    "    skip2 = vgg16.get_layer(\"block2_conv2\").output\n",
    "    skip3 = vgg16.get_layer(\"block3_conv3\").output\n",
    "    skip4 = vgg16.get_layer(\"block4_conv3\").output\n",
    "    # the center\n",
    "    center = vgg16.get_layer(\"block5_conv3\").output\n",
    "    \n",
    "    # the decoder \n",
    "    \n",
    "    d1 = decoder_block(center,skip4,512)\n",
    "    d2 = decoder_block(d1,skip3,256)\n",
    "    d3 = decoder_block(d2,skip2,128)\n",
    "    d4 = decoder_block(d3,skip1,64)\n",
    "    #output\n",
    "    #conv1 = Conv2D(32,3,padding=\"same\")(d4)\n",
    "    #conv2 = Conv2D(16,3,padding=\"same\")(conv1)\n",
    "    outputs = Conv2D(1, 1, padding=\"same\", activation=\"sigmoid\")(d4)\n",
    "    model = Model(inputs, outputs, name=\"VGG16_U-Net\")\n",
    "    return model"
   ]
  },
  {
   "cell_type": "code",
   "execution_count": 18,
   "metadata": {
    "_cell_guid": "b0a24ddf-e8c9-478a-b52a-d1bc1acbd903",
    "_uuid": "ba7c53af-7883-4dc7-905c-a561d6bf6583",
    "collapsed": true,
    "execution": {
     "iopub.execute_input": "2024-11-03T13:21:51.955172Z",
     "iopub.status.busy": "2024-11-03T13:21:51.954757Z",
     "iopub.status.idle": "2024-11-03T13:21:55.426994Z",
     "shell.execute_reply": "2024-11-03T13:21:55.426073Z",
     "shell.execute_reply.started": "2024-11-03T13:21:51.955135Z"
    },
    "jupyter": {
     "outputs_hidden": true
    },
    "papermill": {
     "duration": 0.280623,
     "end_time": "2021-07-05T21:37:39.690406",
     "exception": false,
     "start_time": "2021-07-05T21:37:39.409783",
     "status": "completed"
    },
    "tags": []
   },
   "outputs": [
    {
     "name": "stdout",
     "output_type": "stream",
     "text": [
      "(None, 224, 224, 3)\n",
      "Downloading data from https://storage.googleapis.com/tensorflow/keras-applications/vgg16/vgg16_weights_tf_dim_ordering_tf_kernels_notop.h5\n",
      "58892288/58889256 [==============================] - 0s 0us/step\n",
      "(None, 224, 224, 64)\n",
      "Model: \"VGG16_U-Net\"\n",
      "__________________________________________________________________________________________________\n",
      "Layer (type)                    Output Shape         Param #     Connected to                     \n",
      "==================================================================================================\n",
      "input_1 (InputLayer)            [(None, 224, 224, 3) 0                                            \n",
      "__________________________________________________________________________________________________\n",
      "block1_conv1 (Conv2D)           (None, 224, 224, 64) 1792        input_1[0][0]                    \n",
      "__________________________________________________________________________________________________\n",
      "block1_conv2 (Conv2D)           (None, 224, 224, 64) 36928       block1_conv1[0][0]               \n",
      "__________________________________________________________________________________________________\n",
      "block1_pool (MaxPooling2D)      (None, 112, 112, 64) 0           block1_conv2[0][0]               \n",
      "__________________________________________________________________________________________________\n",
      "block2_conv1 (Conv2D)           (None, 112, 112, 128 73856       block1_pool[0][0]                \n",
      "__________________________________________________________________________________________________\n",
      "block2_conv2 (Conv2D)           (None, 112, 112, 128 147584      block2_conv1[0][0]               \n",
      "__________________________________________________________________________________________________\n",
      "block2_pool (MaxPooling2D)      (None, 56, 56, 128)  0           block2_conv2[0][0]               \n",
      "__________________________________________________________________________________________________\n",
      "block3_conv1 (Conv2D)           (None, 56, 56, 256)  295168      block2_pool[0][0]                \n",
      "__________________________________________________________________________________________________\n",
      "block3_conv2 (Conv2D)           (None, 56, 56, 256)  590080      block3_conv1[0][0]               \n",
      "__________________________________________________________________________________________________\n",
      "block3_conv3 (Conv2D)           (None, 56, 56, 256)  590080      block3_conv2[0][0]               \n",
      "__________________________________________________________________________________________________\n",
      "block3_pool (MaxPooling2D)      (None, 28, 28, 256)  0           block3_conv3[0][0]               \n",
      "__________________________________________________________________________________________________\n",
      "block4_conv1 (Conv2D)           (None, 28, 28, 512)  1180160     block3_pool[0][0]                \n",
      "__________________________________________________________________________________________________\n",
      "block4_conv2 (Conv2D)           (None, 28, 28, 512)  2359808     block4_conv1[0][0]               \n",
      "__________________________________________________________________________________________________\n",
      "block4_conv3 (Conv2D)           (None, 28, 28, 512)  2359808     block4_conv2[0][0]               \n",
      "__________________________________________________________________________________________________\n",
      "block4_pool (MaxPooling2D)      (None, 14, 14, 512)  0           block4_conv3[0][0]               \n",
      "__________________________________________________________________________________________________\n",
      "block5_conv1 (Conv2D)           (None, 14, 14, 512)  2359808     block4_pool[0][0]                \n",
      "__________________________________________________________________________________________________\n",
      "block5_conv2 (Conv2D)           (None, 14, 14, 512)  2359808     block5_conv1[0][0]               \n",
      "__________________________________________________________________________________________________\n",
      "block5_conv3 (Conv2D)           (None, 14, 14, 512)  2359808     block5_conv2[0][0]               \n",
      "__________________________________________________________________________________________________\n",
      "conv2d_transpose (Conv2DTranspo (None, 28, 28, 512)  1049088     block5_conv3[0][0]               \n",
      "__________________________________________________________________________________________________\n",
      "concatenate (Concatenate)       (None, 28, 28, 1024) 0           conv2d_transpose[0][0]           \n",
      "                                                                 block4_conv3[0][0]               \n",
      "__________________________________________________________________________________________________\n",
      "conv2d (Conv2D)                 (None, 28, 28, 512)  4719104     concatenate[0][0]                \n",
      "__________________________________________________________________________________________________\n",
      "batch_normalization (BatchNorma (None, 28, 28, 512)  2048        conv2d[0][0]                     \n",
      "__________________________________________________________________________________________________\n",
      "activation (Activation)         (None, 28, 28, 512)  0           batch_normalization[0][0]        \n",
      "__________________________________________________________________________________________________\n",
      "conv2d_1 (Conv2D)               (None, 28, 28, 512)  2359808     activation[0][0]                 \n",
      "__________________________________________________________________________________________________\n",
      "batch_normalization_1 (BatchNor (None, 28, 28, 512)  2048        conv2d_1[0][0]                   \n",
      "__________________________________________________________________________________________________\n",
      "activation_1 (Activation)       (None, 28, 28, 512)  0           batch_normalization_1[0][0]      \n",
      "__________________________________________________________________________________________________\n",
      "conv2d_transpose_1 (Conv2DTrans (None, 56, 56, 256)  524544      activation_1[0][0]               \n",
      "__________________________________________________________________________________________________\n",
      "concatenate_1 (Concatenate)     (None, 56, 56, 512)  0           conv2d_transpose_1[0][0]         \n",
      "                                                                 block3_conv3[0][0]               \n",
      "__________________________________________________________________________________________________\n",
      "conv2d_2 (Conv2D)               (None, 56, 56, 256)  1179904     concatenate_1[0][0]              \n",
      "__________________________________________________________________________________________________\n",
      "batch_normalization_2 (BatchNor (None, 56, 56, 256)  1024        conv2d_2[0][0]                   \n",
      "__________________________________________________________________________________________________\n",
      "activation_2 (Activation)       (None, 56, 56, 256)  0           batch_normalization_2[0][0]      \n",
      "__________________________________________________________________________________________________\n",
      "conv2d_3 (Conv2D)               (None, 56, 56, 256)  590080      activation_2[0][0]               \n",
      "__________________________________________________________________________________________________\n",
      "batch_normalization_3 (BatchNor (None, 56, 56, 256)  1024        conv2d_3[0][0]                   \n",
      "__________________________________________________________________________________________________\n",
      "activation_3 (Activation)       (None, 56, 56, 256)  0           batch_normalization_3[0][0]      \n",
      "__________________________________________________________________________________________________\n",
      "conv2d_transpose_2 (Conv2DTrans (None, 112, 112, 128 131200      activation_3[0][0]               \n",
      "__________________________________________________________________________________________________\n",
      "concatenate_2 (Concatenate)     (None, 112, 112, 256 0           conv2d_transpose_2[0][0]         \n",
      "                                                                 block2_conv2[0][0]               \n",
      "__________________________________________________________________________________________________\n",
      "conv2d_4 (Conv2D)               (None, 112, 112, 128 295040      concatenate_2[0][0]              \n",
      "__________________________________________________________________________________________________\n",
      "batch_normalization_4 (BatchNor (None, 112, 112, 128 512         conv2d_4[0][0]                   \n",
      "__________________________________________________________________________________________________\n",
      "activation_4 (Activation)       (None, 112, 112, 128 0           batch_normalization_4[0][0]      \n",
      "__________________________________________________________________________________________________\n",
      "conv2d_5 (Conv2D)               (None, 112, 112, 128 147584      activation_4[0][0]               \n",
      "__________________________________________________________________________________________________\n",
      "batch_normalization_5 (BatchNor (None, 112, 112, 128 512         conv2d_5[0][0]                   \n",
      "__________________________________________________________________________________________________\n",
      "activation_5 (Activation)       (None, 112, 112, 128 0           batch_normalization_5[0][0]      \n",
      "__________________________________________________________________________________________________\n",
      "conv2d_transpose_3 (Conv2DTrans (None, 224, 224, 64) 32832       activation_5[0][0]               \n",
      "__________________________________________________________________________________________________\n",
      "concatenate_3 (Concatenate)     (None, 224, 224, 128 0           conv2d_transpose_3[0][0]         \n",
      "                                                                 block1_conv2[0][0]               \n",
      "__________________________________________________________________________________________________\n",
      "conv2d_6 (Conv2D)               (None, 224, 224, 64) 73792       concatenate_3[0][0]              \n",
      "__________________________________________________________________________________________________\n",
      "batch_normalization_6 (BatchNor (None, 224, 224, 64) 256         conv2d_6[0][0]                   \n",
      "__________________________________________________________________________________________________\n",
      "activation_6 (Activation)       (None, 224, 224, 64) 0           batch_normalization_6[0][0]      \n",
      "__________________________________________________________________________________________________\n",
      "conv2d_7 (Conv2D)               (None, 224, 224, 64) 36928       activation_6[0][0]               \n",
      "__________________________________________________________________________________________________\n",
      "batch_normalization_7 (BatchNor (None, 224, 224, 64) 256         conv2d_7[0][0]                   \n",
      "__________________________________________________________________________________________________\n",
      "activation_7 (Activation)       (None, 224, 224, 64) 0           batch_normalization_7[0][0]      \n",
      "__________________________________________________________________________________________________\n",
      "conv2d_8 (Conv2D)               (None, 224, 224, 1)  65          activation_7[0][0]               \n",
      "==================================================================================================\n",
      "Total params: 25,862,337\n",
      "Trainable params: 25,858,497\n",
      "Non-trainable params: 3,840\n",
      "__________________________________________________________________________________________________\n"
     ]
    }
   ],
   "source": [
    "input_shape = (224,224,3)\n",
    "model_vgg16 = unet_vgg16(input_shape)\n",
    "model_vgg16.summary()"
   ]
  },
  {
   "cell_type": "markdown",
   "metadata": {},
   "source": [
    "### U-Net with VGG19 Backbone"
   ]
  },
  {
   "cell_type": "code",
   "execution_count": 10,
   "metadata": {},
   "outputs": [],
   "source": [
    "def unet_vgg19(input_shape):\n",
    "    inputs = Input(input_shape)\n",
    "    vgg19 = VGG19(include_top=False, weights='imagenet', input_tensor=inputs)\n",
    "\n",
    "    # Encoder: Extract the skip connections\n",
    "    skip1 = vgg19.get_layer(\"block1_conv2\").output\n",
    "    skip2 = vgg19.get_layer(\"block2_conv2\").output\n",
    "    skip3 = vgg19.get_layer(\"block3_conv4\").output\n",
    "    skip4 = vgg19.get_layer(\"block4_conv4\").output\n",
    "\n",
    "    # Center block\n",
    "    center = vgg19.get_layer(\"block5_conv4\").output\n",
    "\n",
    "    # Decoder blocks\n",
    "    d1 = decoder_block(center, skip4, 512)\n",
    "    d2 = decoder_block(d1, skip3, 256)\n",
    "    d3 = decoder_block(d2, skip2, 128)\n",
    "    d4 = decoder_block(d3, skip1, 64)\n",
    "\n",
    "    # Output layer\n",
    "    outputs = Conv2D(1, 1, padding=\"same\", activation=\"sigmoid\")(d4)\n",
    "    model = Model(inputs, outputs, name=\"VGG19_U-Net\")\n",
    "    return model"
   ]
  },
  {
   "cell_type": "code",
   "execution_count": 20,
   "metadata": {
    "execution": {
     "iopub.execute_input": "2024-11-03T13:22:04.676798Z",
     "iopub.status.busy": "2024-11-03T13:22:04.676462Z",
     "iopub.status.idle": "2024-11-03T13:22:05.628282Z",
     "shell.execute_reply": "2024-11-03T13:22:05.627303Z",
     "shell.execute_reply.started": "2024-11-03T13:22:04.676765Z"
    }
   },
   "outputs": [
    {
     "name": "stdout",
     "output_type": "stream",
     "text": [
      "Downloading data from https://storage.googleapis.com/tensorflow/keras-applications/vgg19/vgg19_weights_tf_dim_ordering_tf_kernels_notop.h5\n",
      "80142336/80134624 [==============================] - 0s 0us/step\n",
      "Model: \"VGG19_U-Net\"\n",
      "__________________________________________________________________________________________________\n",
      "Layer (type)                    Output Shape         Param #     Connected to                     \n",
      "==================================================================================================\n",
      "input_2 (InputLayer)            [(None, 224, 224, 3) 0                                            \n",
      "__________________________________________________________________________________________________\n",
      "block1_conv1 (Conv2D)           (None, 224, 224, 64) 1792        input_2[0][0]                    \n",
      "__________________________________________________________________________________________________\n",
      "block1_conv2 (Conv2D)           (None, 224, 224, 64) 36928       block1_conv1[0][0]               \n",
      "__________________________________________________________________________________________________\n",
      "block1_pool (MaxPooling2D)      (None, 112, 112, 64) 0           block1_conv2[0][0]               \n",
      "__________________________________________________________________________________________________\n",
      "block2_conv1 (Conv2D)           (None, 112, 112, 128 73856       block1_pool[0][0]                \n",
      "__________________________________________________________________________________________________\n",
      "block2_conv2 (Conv2D)           (None, 112, 112, 128 147584      block2_conv1[0][0]               \n",
      "__________________________________________________________________________________________________\n",
      "block2_pool (MaxPooling2D)      (None, 56, 56, 128)  0           block2_conv2[0][0]               \n",
      "__________________________________________________________________________________________________\n",
      "block3_conv1 (Conv2D)           (None, 56, 56, 256)  295168      block2_pool[0][0]                \n",
      "__________________________________________________________________________________________________\n",
      "block3_conv2 (Conv2D)           (None, 56, 56, 256)  590080      block3_conv1[0][0]               \n",
      "__________________________________________________________________________________________________\n",
      "block3_conv3 (Conv2D)           (None, 56, 56, 256)  590080      block3_conv2[0][0]               \n",
      "__________________________________________________________________________________________________\n",
      "block3_conv4 (Conv2D)           (None, 56, 56, 256)  590080      block3_conv3[0][0]               \n",
      "__________________________________________________________________________________________________\n",
      "block3_pool (MaxPooling2D)      (None, 28, 28, 256)  0           block3_conv4[0][0]               \n",
      "__________________________________________________________________________________________________\n",
      "block4_conv1 (Conv2D)           (None, 28, 28, 512)  1180160     block3_pool[0][0]                \n",
      "__________________________________________________________________________________________________\n",
      "block4_conv2 (Conv2D)           (None, 28, 28, 512)  2359808     block4_conv1[0][0]               \n",
      "__________________________________________________________________________________________________\n",
      "block4_conv3 (Conv2D)           (None, 28, 28, 512)  2359808     block4_conv2[0][0]               \n",
      "__________________________________________________________________________________________________\n",
      "block4_conv4 (Conv2D)           (None, 28, 28, 512)  2359808     block4_conv3[0][0]               \n",
      "__________________________________________________________________________________________________\n",
      "block4_pool (MaxPooling2D)      (None, 14, 14, 512)  0           block4_conv4[0][0]               \n",
      "__________________________________________________________________________________________________\n",
      "block5_conv1 (Conv2D)           (None, 14, 14, 512)  2359808     block4_pool[0][0]                \n",
      "__________________________________________________________________________________________________\n",
      "block5_conv2 (Conv2D)           (None, 14, 14, 512)  2359808     block5_conv1[0][0]               \n",
      "__________________________________________________________________________________________________\n",
      "block5_conv3 (Conv2D)           (None, 14, 14, 512)  2359808     block5_conv2[0][0]               \n",
      "__________________________________________________________________________________________________\n",
      "block5_conv4 (Conv2D)           (None, 14, 14, 512)  2359808     block5_conv3[0][0]               \n",
      "__________________________________________________________________________________________________\n",
      "conv2d_transpose_4 (Conv2DTrans (None, 28, 28, 512)  1049088     block5_conv4[0][0]               \n",
      "__________________________________________________________________________________________________\n",
      "concatenate_4 (Concatenate)     (None, 28, 28, 1024) 0           conv2d_transpose_4[0][0]         \n",
      "                                                                 block4_conv4[0][0]               \n",
      "__________________________________________________________________________________________________\n",
      "conv2d_9 (Conv2D)               (None, 28, 28, 512)  4719104     concatenate_4[0][0]              \n",
      "__________________________________________________________________________________________________\n",
      "batch_normalization_8 (BatchNor (None, 28, 28, 512)  2048        conv2d_9[0][0]                   \n",
      "__________________________________________________________________________________________________\n",
      "activation_8 (Activation)       (None, 28, 28, 512)  0           batch_normalization_8[0][0]      \n",
      "__________________________________________________________________________________________________\n",
      "conv2d_10 (Conv2D)              (None, 28, 28, 512)  2359808     activation_8[0][0]               \n",
      "__________________________________________________________________________________________________\n",
      "batch_normalization_9 (BatchNor (None, 28, 28, 512)  2048        conv2d_10[0][0]                  \n",
      "__________________________________________________________________________________________________\n",
      "activation_9 (Activation)       (None, 28, 28, 512)  0           batch_normalization_9[0][0]      \n",
      "__________________________________________________________________________________________________\n",
      "conv2d_transpose_5 (Conv2DTrans (None, 56, 56, 256)  524544      activation_9[0][0]               \n",
      "__________________________________________________________________________________________________\n",
      "concatenate_5 (Concatenate)     (None, 56, 56, 512)  0           conv2d_transpose_5[0][0]         \n",
      "                                                                 block3_conv4[0][0]               \n",
      "__________________________________________________________________________________________________\n",
      "conv2d_11 (Conv2D)              (None, 56, 56, 256)  1179904     concatenate_5[0][0]              \n",
      "__________________________________________________________________________________________________\n",
      "batch_normalization_10 (BatchNo (None, 56, 56, 256)  1024        conv2d_11[0][0]                  \n",
      "__________________________________________________________________________________________________\n",
      "activation_10 (Activation)      (None, 56, 56, 256)  0           batch_normalization_10[0][0]     \n",
      "__________________________________________________________________________________________________\n",
      "conv2d_12 (Conv2D)              (None, 56, 56, 256)  590080      activation_10[0][0]              \n",
      "__________________________________________________________________________________________________\n",
      "batch_normalization_11 (BatchNo (None, 56, 56, 256)  1024        conv2d_12[0][0]                  \n",
      "__________________________________________________________________________________________________\n",
      "activation_11 (Activation)      (None, 56, 56, 256)  0           batch_normalization_11[0][0]     \n",
      "__________________________________________________________________________________________________\n",
      "conv2d_transpose_6 (Conv2DTrans (None, 112, 112, 128 131200      activation_11[0][0]              \n",
      "__________________________________________________________________________________________________\n",
      "concatenate_6 (Concatenate)     (None, 112, 112, 256 0           conv2d_transpose_6[0][0]         \n",
      "                                                                 block2_conv2[0][0]               \n",
      "__________________________________________________________________________________________________\n",
      "conv2d_13 (Conv2D)              (None, 112, 112, 128 295040      concatenate_6[0][0]              \n",
      "__________________________________________________________________________________________________\n",
      "batch_normalization_12 (BatchNo (None, 112, 112, 128 512         conv2d_13[0][0]                  \n",
      "__________________________________________________________________________________________________\n",
      "activation_12 (Activation)      (None, 112, 112, 128 0           batch_normalization_12[0][0]     \n",
      "__________________________________________________________________________________________________\n",
      "conv2d_14 (Conv2D)              (None, 112, 112, 128 147584      activation_12[0][0]              \n",
      "__________________________________________________________________________________________________\n",
      "batch_normalization_13 (BatchNo (None, 112, 112, 128 512         conv2d_14[0][0]                  \n",
      "__________________________________________________________________________________________________\n",
      "activation_13 (Activation)      (None, 112, 112, 128 0           batch_normalization_13[0][0]     \n",
      "__________________________________________________________________________________________________\n",
      "conv2d_transpose_7 (Conv2DTrans (None, 224, 224, 64) 32832       activation_13[0][0]              \n",
      "__________________________________________________________________________________________________\n",
      "concatenate_7 (Concatenate)     (None, 224, 224, 128 0           conv2d_transpose_7[0][0]         \n",
      "                                                                 block1_conv2[0][0]               \n",
      "__________________________________________________________________________________________________\n",
      "conv2d_15 (Conv2D)              (None, 224, 224, 64) 73792       concatenate_7[0][0]              \n",
      "__________________________________________________________________________________________________\n",
      "batch_normalization_14 (BatchNo (None, 224, 224, 64) 256         conv2d_15[0][0]                  \n",
      "__________________________________________________________________________________________________\n",
      "activation_14 (Activation)      (None, 224, 224, 64) 0           batch_normalization_14[0][0]     \n",
      "__________________________________________________________________________________________________\n",
      "conv2d_16 (Conv2D)              (None, 224, 224, 64) 36928       activation_14[0][0]              \n",
      "__________________________________________________________________________________________________\n",
      "batch_normalization_15 (BatchNo (None, 224, 224, 64) 256         conv2d_16[0][0]                  \n",
      "__________________________________________________________________________________________________\n",
      "activation_15 (Activation)      (None, 224, 224, 64) 0           batch_normalization_15[0][0]     \n",
      "__________________________________________________________________________________________________\n",
      "conv2d_17 (Conv2D)              (None, 224, 224, 1)  65          activation_15[0][0]              \n",
      "==================================================================================================\n",
      "Total params: 31,172,033\n",
      "Trainable params: 31,168,193\n",
      "Non-trainable params: 3,840\n",
      "__________________________________________________________________________________________________\n"
     ]
    }
   ],
   "source": [
    "input_shape = (224, 224, 3)\n",
    "model_vgg19 = unet_vgg19(input_shape)\n",
    "model_vgg19.summary()"
   ]
  },
  {
   "cell_type": "markdown",
   "metadata": {},
   "source": [
    "### Custom U-Net Model"
   ]
  },
  {
   "cell_type": "code",
   "execution_count": 21,
   "metadata": {
    "execution": {
     "iopub.execute_input": "2024-11-03T13:22:06.860745Z",
     "iopub.status.busy": "2024-11-03T13:22:06.860373Z",
     "iopub.status.idle": "2024-11-03T13:22:06.877227Z",
     "shell.execute_reply": "2024-11-03T13:22:06.876165Z",
     "shell.execute_reply.started": "2024-11-03T13:22:06.860713Z"
    }
   },
   "outputs": [],
   "source": [
    "def custom_encoder(input_layer):\n",
    "    # Custom convolutional blocks\n",
    "    conv1 = Conv2D(64, (3, 3), activation='relu', padding='same')(input_layer)\n",
    "    conv1 = Conv2D(64, (3, 3), activation='relu', padding='same')(conv1)\n",
    "    pool1 = MaxPooling2D((2, 2))(conv1)\n",
    "\n",
    "    conv2 = Conv2D(128, (3, 3), activation='relu', padding='same')(pool1)\n",
    "    conv2 = Conv2D(128, (3, 3), activation='relu', padding='same')(conv2)\n",
    "    pool2 = MaxPooling2D((2, 2))(conv2)\n",
    "\n",
    "    conv3 = Conv2D(256, (3, 3), activation='relu', padding='same')(pool2)\n",
    "    conv3 = Conv2D(256, (3, 3), activation='relu', padding='same')(conv3)\n",
    "    pool3 = MaxPooling2D((2, 2))(conv3)\n",
    "\n",
    "    conv4 = Conv2D(512, (3, 3), activation='relu', padding='same')(pool3)\n",
    "    conv4 = Conv2D(512, (3, 3), activation='relu', padding='same')(conv4)\n",
    "    pool4 = MaxPooling2D((2, 2))(conv4)\n",
    "\n",
    "    center = Conv2D(1024, (3, 3), activation='relu', padding='same')(pool4)\n",
    "    center = Conv2D(1024, (3, 3), activation='relu', padding='same')(center)\n",
    "\n",
    "    return conv1, conv2, conv3, conv4, center\n",
    "\n",
    "def decoder_block(input_tensor, skip_tensor, num_filters):\n",
    "    up = UpSampling2D((2, 2))(input_tensor)\n",
    "    concat = Concatenate()([up, skip_tensor])\n",
    "    conv = Conv2D(num_filters, (3, 3), activation='relu', padding='same')(concat)\n",
    "    conv = Conv2D(num_filters, (3, 3), activation='relu', padding='same')(conv)\n",
    "    return conv\n",
    "\n",
    "def unet_custom(input_shape):\n",
    "    inputs = Input(input_shape)\n",
    "    \n",
    "    # Encoder part\n",
    "    skip1, skip2, skip3, skip4, center = custom_encoder(inputs)\n",
    "    \n",
    "    # Decoder part\n",
    "    d1 = decoder_block(center, skip4, 512)\n",
    "    d2 = decoder_block(d1, skip3, 256)\n",
    "    d3 = decoder_block(d2, skip2, 128)\n",
    "    d4 = decoder_block(d3, skip1, 64)\n",
    "    \n",
    "    # Output layer\n",
    "    outputs = Conv2D(1, (1, 1), activation='sigmoid', padding='same')(d4)\n",
    "    model = Model(inputs, outputs, name=\"Custom_U-Net\")\n",
    "    return model"
   ]
  },
  {
   "cell_type": "code",
   "execution_count": 22,
   "metadata": {
    "execution": {
     "iopub.execute_input": "2024-11-03T13:22:09.143037Z",
     "iopub.status.busy": "2024-11-03T13:22:09.142658Z",
     "iopub.status.idle": "2024-11-03T13:22:09.345666Z",
     "shell.execute_reply": "2024-11-03T13:22:09.344857Z",
     "shell.execute_reply.started": "2024-11-03T13:22:09.143003Z"
    }
   },
   "outputs": [
    {
     "name": "stdout",
     "output_type": "stream",
     "text": [
      "Model: \"Custom_U-Net\"\n",
      "__________________________________________________________________________________________________\n",
      "Layer (type)                    Output Shape         Param #     Connected to                     \n",
      "==================================================================================================\n",
      "input_3 (InputLayer)            [(None, 224, 224, 3) 0                                            \n",
      "__________________________________________________________________________________________________\n",
      "conv2d_18 (Conv2D)              (None, 224, 224, 64) 1792        input_3[0][0]                    \n",
      "__________________________________________________________________________________________________\n",
      "conv2d_19 (Conv2D)              (None, 224, 224, 64) 36928       conv2d_18[0][0]                  \n",
      "__________________________________________________________________________________________________\n",
      "max_pooling2d (MaxPooling2D)    (None, 112, 112, 64) 0           conv2d_19[0][0]                  \n",
      "__________________________________________________________________________________________________\n",
      "conv2d_20 (Conv2D)              (None, 112, 112, 128 73856       max_pooling2d[0][0]              \n",
      "__________________________________________________________________________________________________\n",
      "conv2d_21 (Conv2D)              (None, 112, 112, 128 147584      conv2d_20[0][0]                  \n",
      "__________________________________________________________________________________________________\n",
      "max_pooling2d_1 (MaxPooling2D)  (None, 56, 56, 128)  0           conv2d_21[0][0]                  \n",
      "__________________________________________________________________________________________________\n",
      "conv2d_22 (Conv2D)              (None, 56, 56, 256)  295168      max_pooling2d_1[0][0]            \n",
      "__________________________________________________________________________________________________\n",
      "conv2d_23 (Conv2D)              (None, 56, 56, 256)  590080      conv2d_22[0][0]                  \n",
      "__________________________________________________________________________________________________\n",
      "max_pooling2d_2 (MaxPooling2D)  (None, 28, 28, 256)  0           conv2d_23[0][0]                  \n",
      "__________________________________________________________________________________________________\n",
      "conv2d_24 (Conv2D)              (None, 28, 28, 512)  1180160     max_pooling2d_2[0][0]            \n",
      "__________________________________________________________________________________________________\n",
      "conv2d_25 (Conv2D)              (None, 28, 28, 512)  2359808     conv2d_24[0][0]                  \n",
      "__________________________________________________________________________________________________\n",
      "max_pooling2d_3 (MaxPooling2D)  (None, 14, 14, 512)  0           conv2d_25[0][0]                  \n",
      "__________________________________________________________________________________________________\n",
      "conv2d_26 (Conv2D)              (None, 14, 14, 1024) 4719616     max_pooling2d_3[0][0]            \n",
      "__________________________________________________________________________________________________\n",
      "conv2d_27 (Conv2D)              (None, 14, 14, 1024) 9438208     conv2d_26[0][0]                  \n",
      "__________________________________________________________________________________________________\n",
      "up_sampling2d (UpSampling2D)    (None, 28, 28, 1024) 0           conv2d_27[0][0]                  \n",
      "__________________________________________________________________________________________________\n",
      "concatenate_8 (Concatenate)     (None, 28, 28, 1536) 0           up_sampling2d[0][0]              \n",
      "                                                                 conv2d_25[0][0]                  \n",
      "__________________________________________________________________________________________________\n",
      "conv2d_28 (Conv2D)              (None, 28, 28, 512)  7078400     concatenate_8[0][0]              \n",
      "__________________________________________________________________________________________________\n",
      "conv2d_29 (Conv2D)              (None, 28, 28, 512)  2359808     conv2d_28[0][0]                  \n",
      "__________________________________________________________________________________________________\n",
      "up_sampling2d_1 (UpSampling2D)  (None, 56, 56, 512)  0           conv2d_29[0][0]                  \n",
      "__________________________________________________________________________________________________\n",
      "concatenate_9 (Concatenate)     (None, 56, 56, 768)  0           up_sampling2d_1[0][0]            \n",
      "                                                                 conv2d_23[0][0]                  \n",
      "__________________________________________________________________________________________________\n",
      "conv2d_30 (Conv2D)              (None, 56, 56, 256)  1769728     concatenate_9[0][0]              \n",
      "__________________________________________________________________________________________________\n",
      "conv2d_31 (Conv2D)              (None, 56, 56, 256)  590080      conv2d_30[0][0]                  \n",
      "__________________________________________________________________________________________________\n",
      "up_sampling2d_2 (UpSampling2D)  (None, 112, 112, 256 0           conv2d_31[0][0]                  \n",
      "__________________________________________________________________________________________________\n",
      "concatenate_10 (Concatenate)    (None, 112, 112, 384 0           up_sampling2d_2[0][0]            \n",
      "                                                                 conv2d_21[0][0]                  \n",
      "__________________________________________________________________________________________________\n",
      "conv2d_32 (Conv2D)              (None, 112, 112, 128 442496      concatenate_10[0][0]             \n",
      "__________________________________________________________________________________________________\n",
      "conv2d_33 (Conv2D)              (None, 112, 112, 128 147584      conv2d_32[0][0]                  \n",
      "__________________________________________________________________________________________________\n",
      "up_sampling2d_3 (UpSampling2D)  (None, 224, 224, 128 0           conv2d_33[0][0]                  \n",
      "__________________________________________________________________________________________________\n",
      "concatenate_11 (Concatenate)    (None, 224, 224, 192 0           up_sampling2d_3[0][0]            \n",
      "                                                                 conv2d_19[0][0]                  \n",
      "__________________________________________________________________________________________________\n",
      "conv2d_34 (Conv2D)              (None, 224, 224, 64) 110656      concatenate_11[0][0]             \n",
      "__________________________________________________________________________________________________\n",
      "conv2d_35 (Conv2D)              (None, 224, 224, 64) 36928       conv2d_34[0][0]                  \n",
      "__________________________________________________________________________________________________\n",
      "conv2d_36 (Conv2D)              (None, 224, 224, 1)  65          conv2d_35[0][0]                  \n",
      "==================================================================================================\n",
      "Total params: 31,378,945\n",
      "Trainable params: 31,378,945\n",
      "Non-trainable params: 0\n",
      "__________________________________________________________________________________________________\n"
     ]
    }
   ],
   "source": [
    "# Instantiate and compile the custom U-Net\n",
    "input_shape = (224, 224, 3)\n",
    "model_custom = unet_custom(input_shape)\n",
    "model_custom.summary()"
   ]
  },
  {
   "cell_type": "markdown",
   "metadata": {
    "_cell_guid": "bd902705-32f9-47e6-ad6c-39ee5467030c",
    "_uuid": "30edc972-87c1-4628-ac02-25a8443573d2",
    "papermill": {
     "duration": 0.048257,
     "end_time": "2021-07-05T21:37:39.787613",
     "exception": false,
     "start_time": "2021-07-05T21:37:39.739356",
     "status": "completed"
    },
    "tags": []
   },
   "source": [
    "# Loss Functions and Metrics\n",
    "\n",
    "Jaccard distance loss - this loss help to get rid of the side effects of unbalanced class label in a image (like - 80% background , 20 % human ) [ https://en.wikipedia.org/wiki/Jaccard_index](http://)\n",
    "\n",
    "dice_coef - To evaluate accuracy of the segmentation.  [ https://en.wikipedia.org/wiki/S%C3%B8rensen%E2%80%93Dice_coefficient](http://)"
   ]
  },
  {
   "cell_type": "code",
   "execution_count": 23,
   "metadata": {
    "_cell_guid": "96f11601-4f73-4b72-b438-284cc61b1234",
    "_uuid": "9bf8ce0b-a5ec-486c-b32b-5676ed5b8bf2",
    "collapsed": false,
    "execution": {
     "iopub.execute_input": "2024-11-03T13:22:12.252503Z",
     "iopub.status.busy": "2024-11-03T13:22:12.252164Z",
     "iopub.status.idle": "2024-11-03T13:22:12.260016Z",
     "shell.execute_reply": "2024-11-03T13:22:12.259032Z",
     "shell.execute_reply.started": "2024-11-03T13:22:12.252474Z"
    },
    "jupyter": {
     "outputs_hidden": false
    },
    "papermill": {
     "duration": 0.046767,
     "end_time": "2021-07-05T21:37:39.883101",
     "exception": false,
     "start_time": "2021-07-05T21:37:39.836334",
     "status": "completed"
    },
    "tags": []
   },
   "outputs": [],
   "source": [
    "def jaccard_distance_loss(y_true, y_pred,smooth = 100):\n",
    "    intersection = K.sum(K.abs(y_true * y_pred), axis=-1)\n",
    "    sum_ = K.sum(K.abs(y_true) + K.abs(y_pred), axis=-1)\n",
    "    jac = (intersection + smooth) / (sum_ - intersection + smooth)\n",
    "    return (1 - jac) * smooth\n",
    "\n",
    "def dice_coef(y_true, y_pred):\n",
    "    y_true_f = K.flatten(y_true)\n",
    "    y_pred_f = K.flatten(y_pred)\n",
    "    intersection = K.sum(y_true_f * y_pred_f)\n",
    "    return (2. * intersection + K.epsilon()) / (K.sum(y_true_f) + K.sum(y_pred_f) + K.epsilon())"
   ]
  },
  {
   "cell_type": "markdown",
   "metadata": {
    "_cell_guid": "5665b2d4-05e7-4a2b-a230-0c105e836af2",
    "_uuid": "506afa37-de55-4a98-ab80-245147d04397",
    "papermill": {
     "duration": 0.02949,
     "end_time": "2021-07-05T21:37:39.942511",
     "exception": false,
     "start_time": "2021-07-05T21:37:39.913021",
     "status": "completed"
    },
    "tags": []
   },
   "source": [
    "# Model Compilation and Callbacks"
   ]
  },
  {
   "cell_type": "markdown",
   "metadata": {},
   "source": [
    "## Compile VGG16 U-Net Model"
   ]
  },
  {
   "cell_type": "code",
   "execution_count": 24,
   "metadata": {
    "execution": {
     "iopub.execute_input": "2024-11-03T13:22:14.872803Z",
     "iopub.status.busy": "2024-11-03T13:22:14.872459Z",
     "iopub.status.idle": "2024-11-03T13:22:15.268986Z",
     "shell.execute_reply": "2024-11-03T13:22:15.267942Z",
     "shell.execute_reply.started": "2024-11-03T13:22:14.872772Z"
    }
   },
   "outputs": [
    {
     "name": "stdout",
     "output_type": "stream",
     "text": [
      "(None, 224, 224, 3)\n",
      "(None, 224, 224, 64)\n",
      "VGG16 U-Net Model Metrics Names: []\n"
     ]
    }
   ],
   "source": [
    "# Compile VGG16 U-Net model\n",
    "model_vgg16 = unet_vgg16(input_shape=(224, 224, 3))\n",
    "model_vgg16.compile(optimizer='adam', loss=jaccard_distance_loss, metrics=[dice_coef, 'accuracy'])\n",
    "\n",
    "# Define callbacks for VGG16 U-Net\n",
    "mc_vgg16 = ModelCheckpoint(\n",
    "    filepath='top-weights-vgg16.h5',\n",
    "    monitor='val_dice_coef',\n",
    "    mode='max',\n",
    "    save_best_only=True,\n",
    "    save_weights_only=True,\n",
    "    verbose=1\n",
    ")\n",
    "es_vgg16 = EarlyStopping(\n",
    "    monitor='val_dice_coef',\n",
    "    mode='max',\n",
    "    patience=3,\n",
    "    verbose=1\n",
    ")\n",
    "callbacks_vgg16 = [mc_vgg16, es_vgg16]\n",
    "\n",
    "# Display model metrics names\n",
    "print(\"VGG16 U-Net Model Metrics Names:\", model_vgg16.metrics_names)\n"
   ]
  },
  {
   "cell_type": "markdown",
   "metadata": {},
   "source": [
    "## Compile VGG19 U-Net Model"
   ]
  },
  {
   "cell_type": "code",
   "execution_count": 25,
   "metadata": {
    "execution": {
     "iopub.execute_input": "2024-11-03T13:22:17.723023Z",
     "iopub.status.busy": "2024-11-03T13:22:17.722603Z",
     "iopub.status.idle": "2024-11-03T13:22:18.189047Z",
     "shell.execute_reply": "2024-11-03T13:22:18.188147Z",
     "shell.execute_reply.started": "2024-11-03T13:22:17.722984Z"
    }
   },
   "outputs": [
    {
     "name": "stdout",
     "output_type": "stream",
     "text": [
      "VGG19 U-Net Model Metrics Names: []\n"
     ]
    }
   ],
   "source": [
    "# Compile VGG19 U-Net model\n",
    "model_vgg19 = unet_vgg19(input_shape=(224, 224, 3))\n",
    "model_vgg19.compile(optimizer='adam', loss=jaccard_distance_loss, metrics=[dice_coef, 'accuracy'])\n",
    "\n",
    "# Define callbacks for VGG19 U-Net\n",
    "mc_vgg19 = ModelCheckpoint(\n",
    "    filepath='top-weights-vgg19.h5',\n",
    "    monitor='val_dice_coef',\n",
    "    mode='max',\n",
    "    save_best_only=True,\n",
    "    save_weights_only=True,\n",
    "    verbose=1\n",
    ")\n",
    "es_vgg19 = EarlyStopping(\n",
    "    monitor='val_dice_coef',\n",
    "    mode='max',\n",
    "    patience=3,\n",
    "    verbose=1\n",
    ")\n",
    "callbacks_vgg19 = [mc_vgg19, es_vgg19]\n",
    "\n",
    "# Display model metrics names\n",
    "print(\"VGG19 U-Net Model Metrics Names:\", model_vgg19.metrics_names)\n"
   ]
  },
  {
   "cell_type": "markdown",
   "metadata": {},
   "source": [
    "## Compile Custom U-Net Model"
   ]
  },
  {
   "cell_type": "code",
   "execution_count": 26,
   "metadata": {
    "_cell_guid": "57c0d1c9-5449-49dd-aee4-05d195a66216",
    "_uuid": "06334b92-90e4-4de7-b290-4984051b3931",
    "collapsed": false,
    "execution": {
     "iopub.execute_input": "2024-11-03T13:22:20.034565Z",
     "iopub.status.busy": "2024-11-03T13:22:20.034166Z",
     "iopub.status.idle": "2024-11-03T13:22:20.238530Z",
     "shell.execute_reply": "2024-11-03T13:22:20.237543Z",
     "shell.execute_reply.started": "2024-11-03T13:22:20.034528Z"
    },
    "jupyter": {
     "outputs_hidden": false
    },
    "papermill": {
     "duration": 0.049276,
     "end_time": "2021-07-05T21:37:40.021193",
     "exception": false,
     "start_time": "2021-07-05T21:37:39.971917",
     "status": "completed"
    },
    "tags": []
   },
   "outputs": [
    {
     "name": "stdout",
     "output_type": "stream",
     "text": [
      "Custom U-Net Model Metrics Names: []\n"
     ]
    }
   ],
   "source": [
    "# Compile Custom U-Net model\n",
    "model_custom = unet_custom(input_shape=(224, 224, 3))\n",
    "model_custom.compile(optimizer='adam', loss=jaccard_distance_loss, metrics=[dice_coef, 'accuracy'])\n",
    "\n",
    "# Define callbacks for Custom U-Net\n",
    "mc_custom = ModelCheckpoint(\n",
    "    filepath='top-weights-custom.h5',\n",
    "    monitor='val_dice_coef',\n",
    "    mode='max',\n",
    "    save_best_only=True,\n",
    "    save_weights_only=True,\n",
    "    verbose=1\n",
    ")\n",
    "es_custom = EarlyStopping(\n",
    "    monitor='val_dice_coef',\n",
    "    mode='max',\n",
    "    patience=3,\n",
    "    verbose=1\n",
    ")\n",
    "callbacks_custom = [mc_custom, es_custom]\n",
    "\n",
    "# Display model metrics names\n",
    "print(\"Custom U-Net Model Metrics Names:\", model_custom.metrics_names)\n"
   ]
  },
  {
   "cell_type": "markdown",
   "metadata": {
    "_cell_guid": "7bd9702c-8ef7-488d-a896-52761766d02a",
    "_uuid": "d36797b6-3298-45a6-9966-ec647d53cc41",
    "papermill": {
     "duration": 0.029689,
     "end_time": "2021-07-05T21:37:40.080443",
     "exception": false,
     "start_time": "2021-07-05T21:37:40.050754",
     "status": "completed"
    },
    "tags": []
   },
   "source": [
    "# Train our models with above configurations and train data generator."
   ]
  },
  {
   "cell_type": "markdown",
   "metadata": {},
   "source": [
    "## U-net VGG16"
   ]
  },
  {
   "cell_type": "code",
   "execution_count": 28,
   "metadata": {
    "execution": {
     "iopub.execute_input": "2024-11-03T13:24:26.997892Z",
     "iopub.status.busy": "2024-11-03T13:24:26.997507Z",
     "iopub.status.idle": "2024-11-03T15:37:13.703501Z",
     "shell.execute_reply": "2024-11-03T15:37:13.702632Z",
     "shell.execute_reply.started": "2024-11-03T13:24:26.997819Z"
    }
   },
   "outputs": [
    {
     "name": "stdout",
     "output_type": "stream",
     "text": [
      "Epoch 1/40\n",
      "18/18 [==============================] - 200s 11s/step - loss: 0.1969 - dice_coef: 1.3433e-10 - accuracy: 0.8011\n",
      "Epoch 2/40\n",
      "18/18 [==============================] - 199s 11s/step - loss: 0.1971 - dice_coef: 2.7880e-13 - accuracy: 0.8009\n",
      "Epoch 3/40\n",
      "18/18 [==============================] - 199s 11s/step - loss: 0.1970 - dice_coef: 2.7923e-13 - accuracy: 0.8010\n",
      "Epoch 4/40\n",
      "18/18 [==============================] - 199s 11s/step - loss: 0.1970 - dice_coef: 2.7865e-13 - accuracy: 0.8010\n",
      "Epoch 5/40\n",
      "18/18 [==============================] - 199s 11s/step - loss: 0.1972 - dice_coef: 2.7869e-13 - accuracy: 0.8009\n",
      "Epoch 6/40\n",
      "18/18 [==============================] - 199s 11s/step - loss: 0.1971 - dice_coef: 2.7914e-13 - accuracy: 0.8010\n",
      "Epoch 7/40\n",
      "18/18 [==============================] - 199s 11s/step - loss: 0.1970 - dice_coef: 2.7899e-13 - accuracy: 0.8011\n",
      "Epoch 8/40\n",
      "18/18 [==============================] - 199s 11s/step - loss: 0.1972 - dice_coef: 2.7896e-13 - accuracy: 0.8008\n",
      "Epoch 9/40\n",
      "18/18 [==============================] - 199s 11s/step - loss: 0.1972 - dice_coef: 2.7908e-13 - accuracy: 0.8008\n",
      "Epoch 10/40\n",
      "18/18 [==============================] - 199s 11s/step - loss: 0.1971 - dice_coef: 2.7886e-13 - accuracy: 0.8009\n",
      "Epoch 11/40\n",
      "18/18 [==============================] - 199s 11s/step - loss: 0.1969 - dice_coef: 2.7908e-13 - accuracy: 0.8011\n",
      "Epoch 12/40\n",
      "18/18 [==============================] - 199s 11s/step - loss: 0.1971 - dice_coef: 2.7852e-13 - accuracy: 0.8009\n",
      "Epoch 13/40\n",
      "18/18 [==============================] - 199s 11s/step - loss: 0.1974 - dice_coef: 2.7850e-13 - accuracy: 0.8006\n",
      "Epoch 14/40\n",
      "18/18 [==============================] - 199s 11s/step - loss: 0.1975 - dice_coef: 2.7829e-13 - accuracy: 0.8005\n",
      "Epoch 15/40\n",
      "18/18 [==============================] - 199s 11s/step - loss: 0.1974 - dice_coef: 2.7887e-13 - accuracy: 0.8007\n",
      "Epoch 16/40\n",
      "18/18 [==============================] - 199s 11s/step - loss: 0.1972 - dice_coef: 2.7885e-13 - accuracy: 0.8009\n",
      "Epoch 17/40\n",
      "18/18 [==============================] - 199s 11s/step - loss: 0.1973 - dice_coef: 2.7919e-13 - accuracy: 0.8007\n",
      "Epoch 18/40\n",
      "18/18 [==============================] - 199s 11s/step - loss: 0.1973 - dice_coef: 2.7856e-13 - accuracy: 0.8007\n",
      "Epoch 19/40\n",
      "18/18 [==============================] - 199s 11s/step - loss: 0.1974 - dice_coef: 2.7871e-13 - accuracy: 0.8006\n",
      "Epoch 20/40\n",
      "18/18 [==============================] - 199s 11s/step - loss: 0.1972 - dice_coef: 2.7860e-13 - accuracy: 0.8008\n",
      "Epoch 21/40\n",
      "18/18 [==============================] - 199s 11s/step - loss: 0.1974 - dice_coef: 2.7897e-13 - accuracy: 0.8006\n",
      "Epoch 22/40\n",
      "18/18 [==============================] - 199s 11s/step - loss: 0.1972 - dice_coef: 2.7919e-13 - accuracy: 0.8008\n",
      "Epoch 23/40\n",
      "18/18 [==============================] - 199s 11s/step - loss: 0.1971 - dice_coef: 2.7872e-13 - accuracy: 0.8009\n",
      "Epoch 24/40\n",
      "18/18 [==============================] - 199s 11s/step - loss: 0.1974 - dice_coef: 2.7837e-13 - accuracy: 0.8006\n",
      "Epoch 25/40\n",
      "18/18 [==============================] - 199s 11s/step - loss: 0.1973 - dice_coef: 2.7877e-13 - accuracy: 0.8008\n",
      "Epoch 26/40\n",
      "18/18 [==============================] - 199s 11s/step - loss: 0.1973 - dice_coef: 2.7878e-13 - accuracy: 0.8007\n",
      "Epoch 27/40\n",
      "18/18 [==============================] - 199s 11s/step - loss: 0.1972 - dice_coef: 2.7895e-13 - accuracy: 0.8009\n",
      "Epoch 28/40\n",
      "18/18 [==============================] - 199s 11s/step - loss: 0.1971 - dice_coef: 2.7876e-13 - accuracy: 0.8009\n",
      "Epoch 29/40\n",
      "18/18 [==============================] - 199s 11s/step - loss: 0.1971 - dice_coef: 2.7889e-13 - accuracy: 0.8009\n",
      "Epoch 30/40\n",
      "18/18 [==============================] - 199s 11s/step - loss: 0.1972 - dice_coef: 2.7848e-13 - accuracy: 0.8008\n",
      "Epoch 31/40\n",
      "18/18 [==============================] - 199s 11s/step - loss: 0.1970 - dice_coef: 2.7925e-13 - accuracy: 0.8010\n",
      "Epoch 32/40\n",
      "18/18 [==============================] - 199s 11s/step - loss: 0.1970 - dice_coef: 2.7913e-13 - accuracy: 0.8010\n",
      "Epoch 33/40\n",
      "18/18 [==============================] - 199s 11s/step - loss: 0.1973 - dice_coef: 2.7841e-13 - accuracy: 0.8007\n",
      "Epoch 34/40\n",
      "18/18 [==============================] - 200s 11s/step - loss: 0.1972 - dice_coef: 2.7862e-13 - accuracy: 0.8009\n",
      "Epoch 35/40\n",
      "18/18 [==============================] - 199s 11s/step - loss: 0.1973 - dice_coef: 2.7871e-13 - accuracy: 0.8008\n",
      "Epoch 36/40\n",
      "18/18 [==============================] - 199s 11s/step - loss: 0.1972 - dice_coef: 2.7889e-13 - accuracy: 0.8009\n",
      "Epoch 37/40\n",
      "18/18 [==============================] - 199s 11s/step - loss: 0.1970 - dice_coef: 2.7883e-13 - accuracy: 0.8010\n",
      "Epoch 38/40\n",
      "18/18 [==============================] - 199s 11s/step - loss: 0.1972 - dice_coef: 2.7855e-13 - accuracy: 0.8008\n",
      "Epoch 39/40\n",
      "18/18 [==============================] - 199s 11s/step - loss: 0.1972 - dice_coef: 2.7890e-13 - accuracy: 0.8008\n",
      "Epoch 40/40\n",
      "18/18 [==============================] - 199s 11s/step - loss: 0.1973 - dice_coef: 2.7837e-13 - accuracy: 0.8007\n"
     ]
    }
   ],
   "source": [
    "if not (os.path.isfile('../input/linknet/top-weights-vgg16.h5')):\n",
    "    # Train VGG16 U-Net model\n",
    "    results_vgg16 = model_vgg16.fit(\n",
    "        train_generator,\n",
    "        steps_per_epoch=train_steps,\n",
    "        epochs=40,\n",
    "        callbacks=callbacks_vgg16,\n",
    "        validation_data=val_generator,\n",
    "        validation_steps=val_steps\n",
    "    )\n",
    "else:\n",
    "    model_vgg16.load_weights('../input/linknet/top-weights-vgg16.h5')"
   ]
  },
  {
   "cell_type": "code",
   "execution_count": 36,
   "metadata": {
    "_cell_guid": "62b9ccaa-8be6-4591-8714-d92958712097",
    "_uuid": "ebed600b-55e0-421a-8c48-7b4623556656",
    "collapsed": false,
    "execution": {
     "iopub.execute_input": "2024-11-03T18:46:01.544742Z",
     "iopub.status.busy": "2024-11-03T18:46:01.544399Z",
     "iopub.status.idle": "2024-11-03T18:46:01.707400Z",
     "shell.execute_reply": "2024-11-03T18:46:01.706648Z",
     "shell.execute_reply.started": "2024-11-03T18:46:01.544711Z"
    },
    "jupyter": {
     "outputs_hidden": false
    },
    "papermill": {
     "duration": 0.255419,
     "end_time": "2021-07-05T21:37:40.365742",
     "exception": false,
     "start_time": "2021-07-05T21:37:40.110323",
     "status": "completed"
    },
    "tags": []
   },
   "outputs": [],
   "source": [
    "model_vgg16.save_weights('top-weights-vgg16.h5')"
   ]
  },
  {
   "cell_type": "code",
   "execution_count": 37,
   "metadata": {
    "_cell_guid": "b8384ef4-a715-4d1f-9913-acdebfd8cb15",
    "_uuid": "c07f7259-1de3-4133-9751-cb4cc1cdf47a",
    "collapsed": false,
    "execution": {
     "iopub.execute_input": "2024-11-03T18:46:03.942088Z",
     "iopub.status.busy": "2024-11-03T18:46:03.941714Z",
     "iopub.status.idle": "2024-11-03T18:46:03.947307Z",
     "shell.execute_reply": "2024-11-03T18:46:03.946455Z",
     "shell.execute_reply.started": "2024-11-03T18:46:03.942056Z"
    },
    "jupyter": {
     "outputs_hidden": false
    },
    "papermill": {
     "duration": 0.108831,
     "end_time": "2021-07-05T21:41:58.58177",
     "exception": false,
     "start_time": "2021-07-05T21:41:58.472939",
     "status": "completed"
    },
    "tags": []
   },
   "outputs": [
    {
     "data": {
      "text/plain": [
       "dict_keys(['loss', 'dice_coef', 'accuracy'])"
      ]
     },
     "execution_count": 37,
     "metadata": {},
     "output_type": "execute_result"
    }
   ],
   "source": [
    "results_vgg16.history.keys()"
   ]
  },
  {
   "cell_type": "code",
   "execution_count": 38,
   "metadata": {
    "_cell_guid": "e037a51b-f5fc-46d3-b4a9-a58c96bfb68e",
    "_uuid": "01369ba2-8db5-4c60-a4aa-43fb07ef7fb8",
    "collapsed": false,
    "execution": {
     "iopub.execute_input": "2024-11-03T18:46:06.151409Z",
     "iopub.status.busy": "2024-11-03T18:46:06.151081Z",
     "iopub.status.idle": "2024-11-03T18:46:06.155867Z",
     "shell.execute_reply": "2024-11-03T18:46:06.154943Z",
     "shell.execute_reply.started": "2024-11-03T18:46:06.151381Z"
    },
    "jupyter": {
     "outputs_hidden": false
    },
    "papermill": {
     "duration": 0.107936,
     "end_time": "2021-07-05T21:41:58.791329",
     "exception": false,
     "start_time": "2021-07-05T21:41:58.683393",
     "status": "completed"
    },
    "tags": []
   },
   "outputs": [],
   "source": [
    "loss = results_vgg16.history[\"loss\"]\n",
    "# val_loss = results.history[\"val_loss\"]\n",
    "\n",
    "dice_coef = results_vgg16.history[\"dice_coef\"]\n",
    "# val_dice_coef = results.history[\"val_dice_coef\"]\n",
    "\n",
    "acc = results_vgg16.history[\"accuracy\"]\n",
    "# val_acc = results.history[\"val_accuracy\"]"
   ]
  },
  {
   "cell_type": "code",
   "execution_count": 39,
   "metadata": {
    "_cell_guid": "92a8303a-b014-411b-9bef-224d7e7c9824",
    "_uuid": "c355550e-cda4-4999-b07b-e4ed346866c9",
    "collapsed": false,
    "execution": {
     "iopub.execute_input": "2024-11-03T18:46:09.004752Z",
     "iopub.status.busy": "2024-11-03T18:46:09.004433Z",
     "iopub.status.idle": "2024-11-03T18:46:09.410318Z",
     "shell.execute_reply": "2024-11-03T18:46:09.409478Z",
     "shell.execute_reply.started": "2024-11-03T18:46:09.004724Z"
    },
    "jupyter": {
     "outputs_hidden": false
    },
    "papermill": {
     "duration": 0.24892,
     "end_time": "2021-07-05T21:41:59.140789",
     "exception": false,
     "start_time": "2021-07-05T21:41:58.891869",
     "status": "completed"
    },
    "tags": []
   },
   "outputs": [
    {
     "data": {
      "text/plain": [
       "<matplotlib.legend.Legend at 0x7c13d6179950>"
      ]
     },
     "execution_count": 39,
     "metadata": {},
     "output_type": "execute_result"
    },
    {
     "data": {
      "image/png": "[encoded data removed]",
      "text/plain": [
       "<Figure size 432x288 with 1 Axes>"
      ]
     },
     "metadata": {
      "needs_background": "light"
     },
     "output_type": "display_data"
    }
   ],
   "source": [
    "plt.plot(loss,label = \"loss\")\n",
    "# plt.plot(val_loss,label  = \"val loss\")\n",
    "plt.xlabel(\"iterations\")\n",
    "# plt.ylabel(\"X axis label\")\n",
    "plt.legend()"
   ]
  },
  {
   "cell_type": "code",
   "execution_count": 40,
   "metadata": {
    "_cell_guid": "60058f75-b800-4a13-852a-1e1d0fb416a8",
    "_uuid": "34bf876c-ed6c-4fa6-b1aa-2d600dd8177f",
    "collapsed": false,
    "execution": {
     "iopub.execute_input": "2024-11-03T18:46:14.761315Z",
     "iopub.status.busy": "2024-11-03T18:46:14.760958Z",
     "iopub.status.idle": "2024-11-03T18:46:14.935221Z",
     "shell.execute_reply": "2024-11-03T18:46:14.934371Z",
     "shell.execute_reply.started": "2024-11-03T18:46:14.761269Z"
    },
    "jupyter": {
     "outputs_hidden": false
    },
    "papermill": {
     "duration": 0.24884,
     "end_time": "2021-07-05T21:41:59.49198",
     "exception": false,
     "start_time": "2021-07-05T21:41:59.24314",
     "status": "completed"
    },
    "tags": []
   },
   "outputs": [
    {
     "data": {
      "text/plain": [
       "<matplotlib.legend.Legend at 0x7c13cc1e1e90>"
      ]
     },
     "execution_count": 40,
     "metadata": {},
     "output_type": "execute_result"
    },
    {
     "data": {
      "image/png": "[encoded data removed]",
      "text/plain": [
       "<Figure size 432x288 with 1 Axes>"
      ]
     },
     "metadata": {
      "needs_background": "light"
     },
     "output_type": "display_data"
    }
   ],
   "source": [
    "plt.plot(dice_coef,label = \"dice_coef\")\n",
    "# plt.plot(val_dice_coef,label  = \"val dice_coef\")\n",
    "plt.xlabel(\"iterations\")\n",
    "# plt.ylabel(\"X axis label\")\n",
    "plt.legend()"
   ]
  },
  {
   "cell_type": "code",
   "execution_count": 41,
   "metadata": {
    "_cell_guid": "2b785061-dfa2-4c8e-a2cc-08f0410b50da",
    "_uuid": "9b881e9b-34bc-4c13-a5b2-39b977d53463",
    "collapsed": false,
    "execution": {
     "iopub.execute_input": "2024-11-03T18:46:17.960198Z",
     "iopub.status.busy": "2024-11-03T18:46:17.959817Z",
     "iopub.status.idle": "2024-11-03T18:46:18.136730Z",
     "shell.execute_reply": "2024-11-03T18:46:18.135724Z",
     "shell.execute_reply.started": "2024-11-03T18:46:17.960165Z"
    },
    "jupyter": {
     "outputs_hidden": false
    },
    "papermill": {
     "duration": 0.258424,
     "end_time": "2021-07-05T21:41:59.853751",
     "exception": false,
     "start_time": "2021-07-05T21:41:59.595327",
     "status": "completed"
    },
    "tags": []
   },
   "outputs": [
    {
     "data": {
      "text/plain": [
       "<matplotlib.legend.Legend at 0x7c13cc267310>"
      ]
     },
     "execution_count": 41,
     "metadata": {},
     "output_type": "execute_result"
    },
    {
     "data": {
      "image/png": "[encoded data removed]",
      "text/plain": [
       "<Figure size 432x288 with 1 Axes>"
      ]
     },
     "metadata": {
      "needs_background": "light"
     },
     "output_type": "display_data"
    }
   ],
   "source": [
    "plt.plot(acc,label = \"acc\")\n",
    "# plt.plot(val_acc,label  = \"val acc\")\n",
    "plt.xlabel(\"iterations\")\n",
    "# plt.ylabel(\"X axis label\")\n",
    "plt.legend()"
   ]
  },
  {
   "cell_type": "markdown",
   "metadata": {},
   "source": [
    "## U-net VGG19"
   ]
  },
  {
   "cell_type": "code",
   "execution_count": 29,
   "metadata": {
    "execution": {
     "iopub.execute_input": "2024-11-03T16:16:06.202432Z",
     "iopub.status.busy": "2024-11-03T16:16:06.202078Z",
     "iopub.status.idle": "2024-11-03T18:39:39.402023Z",
     "shell.execute_reply": "2024-11-03T18:39:39.401135Z",
     "shell.execute_reply.started": "2024-11-03T16:16:06.202397Z"
    }
   },
   "outputs": [
    {
     "name": "stdout",
     "output_type": "stream",
     "text": [
      "Epoch 1/40\n",
      "18/18 [==============================] - 215s 12s/step - loss: 0.2192 - dice_coef: 0.0419 - accuracy: 0.8006\n",
      "Epoch 2/40\n",
      "18/18 [==============================] - 215s 12s/step - loss: 0.1945 - dice_coef: 2.8220e-13 - accuracy: 0.8036\n",
      "Epoch 3/40\n",
      "18/18 [==============================] - 215s 12s/step - loss: 0.1987 - dice_coef: 2.7693e-13 - accuracy: 0.7993\n",
      "Epoch 4/40\n",
      "18/18 [==============================] - 215s 12s/step - loss: 0.1947 - dice_coef: 2.8246e-13 - accuracy: 0.8034\n",
      "Epoch 5/40\n",
      "18/18 [==============================] - 216s 12s/step - loss: 0.1963 - dice_coef: 2.7995e-13 - accuracy: 0.8018\n",
      "Epoch 6/40\n",
      "18/18 [==============================] - 215s 12s/step - loss: 0.1983 - dice_coef: 2.7739e-13 - accuracy: 0.7997\n",
      "Epoch 7/40\n",
      "18/18 [==============================] - 215s 12s/step - loss: 0.1922 - dice_coef: 2.8689e-13 - accuracy: 0.8059\n",
      "Epoch 8/40\n",
      "18/18 [==============================] - 215s 12s/step - loss: 0.1993 - dice_coef: 2.7602e-13 - accuracy: 0.7987\n",
      "Epoch 9/40\n",
      "18/18 [==============================] - 215s 12s/step - loss: 0.2009 - dice_coef: 2.7333e-13 - accuracy: 0.7970\n",
      "Epoch 10/40\n",
      "18/18 [==============================] - 215s 12s/step - loss: 0.1974 - dice_coef: 2.7876e-13 - accuracy: 0.8006\n",
      "Epoch 11/40\n",
      "18/18 [==============================] - 215s 12s/step - loss: 0.1976 - dice_coef: 2.7845e-13 - accuracy: 0.8004\n",
      "Epoch 12/40\n",
      "18/18 [==============================] - 215s 12s/step - loss: 0.1990 - dice_coef: 2.7624e-13 - accuracy: 0.7990\n",
      "Epoch 13/40\n",
      "18/18 [==============================] - 215s 12s/step - loss: 0.1981 - dice_coef: 2.7750e-13 - accuracy: 0.7999\n",
      "Epoch 14/40\n",
      "18/18 [==============================] - 215s 12s/step - loss: 0.1995 - dice_coef: 2.7521e-13 - accuracy: 0.7985\n",
      "Epoch 15/40\n",
      "18/18 [==============================] - 215s 12s/step - loss: 0.1983 - dice_coef: 2.7714e-13 - accuracy: 0.7997\n",
      "Epoch 16/40\n",
      "18/18 [==============================] - 215s 12s/step - loss: 0.1972 - dice_coef: 2.7893e-13 - accuracy: 0.8008\n",
      "Epoch 17/40\n",
      "18/18 [==============================] - 215s 12s/step - loss: 0.1977 - dice_coef: 2.7775e-13 - accuracy: 0.8003\n",
      "Epoch 18/40\n",
      "18/18 [==============================] - 215s 12s/step - loss: 0.1952 - dice_coef: 2.8120e-13 - accuracy: 0.8028\n",
      "Epoch 19/40\n",
      "18/18 [==============================] - 215s 12s/step - loss: 0.1992 - dice_coef: 2.7574e-13 - accuracy: 0.7988\n",
      "Epoch 20/40\n",
      "18/18 [==============================] - 215s 12s/step - loss: 0.1947 - dice_coef: 2.8242e-13 - accuracy: 0.8034\n",
      "Epoch 21/40\n",
      "18/18 [==============================] - 215s 12s/step - loss: 0.1951 - dice_coef: 2.8158e-13 - accuracy: 0.8030\n",
      "Epoch 22/40\n",
      "18/18 [==============================] - 215s 12s/step - loss: 0.2003 - dice_coef: 2.7437e-13 - accuracy: 0.7977\n",
      "Epoch 23/40\n",
      "18/18 [==============================] - 215s 12s/step - loss: 0.1952 - dice_coef: 2.8146e-13 - accuracy: 0.8028\n",
      "Epoch 24/40\n",
      "18/18 [==============================] - 215s 12s/step - loss: 0.2017 - dice_coef: 2.7303e-13 - accuracy: 0.7962\n",
      "Epoch 25/40\n",
      "18/18 [==============================] - 215s 12s/step - loss: 0.1930 - dice_coef: 2.8496e-13 - accuracy: 0.8051\n",
      "Epoch 26/40\n",
      "18/18 [==============================] - 215s 12s/step - loss: 0.1985 - dice_coef: 2.7629e-13 - accuracy: 0.7995\n",
      "Epoch 27/40\n",
      "18/18 [==============================] - 215s 12s/step - loss: 0.1948 - dice_coef: 2.8212e-13 - accuracy: 0.8033\n",
      "Epoch 28/40\n",
      "18/18 [==============================] - 215s 12s/step - loss: 0.1998 - dice_coef: 2.7499e-13 - accuracy: 0.7982\n",
      "Epoch 29/40\n",
      "18/18 [==============================] - 215s 12s/step - loss: 0.1968 - dice_coef: 2.7902e-13 - accuracy: 0.8013\n",
      "Epoch 30/40\n",
      "18/18 [==============================] - 215s 12s/step - loss: 0.1995 - dice_coef: 2.7572e-13 - accuracy: 0.7986\n",
      "Epoch 31/40\n",
      "18/18 [==============================] - 215s 12s/step - loss: 0.1978 - dice_coef: 2.7752e-13 - accuracy: 0.8002\n",
      "Epoch 32/40\n",
      "18/18 [==============================] - 215s 12s/step - loss: 0.1993 - dice_coef: 2.7582e-13 - accuracy: 0.7987\n",
      "Epoch 33/40\n",
      "18/18 [==============================] - 215s 12s/step - loss: 0.1995 - dice_coef: 2.7528e-13 - accuracy: 0.7985\n",
      "Epoch 34/40\n",
      "18/18 [==============================] - 215s 12s/step - loss: 0.1963 - dice_coef: 2.7996e-13 - accuracy: 0.8018\n",
      "Epoch 35/40\n",
      "18/18 [==============================] - 215s 12s/step - loss: 0.1952 - dice_coef: 2.8140e-13 - accuracy: 0.8029\n",
      "Epoch 36/40\n",
      "18/18 [==============================] - 216s 12s/step - loss: 0.1958 - dice_coef: 2.8069e-13 - accuracy: 0.8022\n",
      "Epoch 37/40\n",
      "18/18 [==============================] - 215s 12s/step - loss: 0.1947 - dice_coef: 2.8210e-13 - accuracy: 0.8033\n",
      "Epoch 38/40\n",
      "18/18 [==============================] - 215s 12s/step - loss: 0.1992 - dice_coef: 2.7619e-13 - accuracy: 0.7988\n",
      "Epoch 39/40\n",
      "18/18 [==============================] - 215s 12s/step - loss: 0.1925 - dice_coef: 2.8541e-13 - accuracy: 0.8056\n",
      "Epoch 40/40\n",
      "18/18 [==============================] - 215s 12s/step - loss: 0.2000 - dice_coef: 2.7499e-13 - accuracy: 0.7980\n"
     ]
    }
   ],
   "source": [
    "if not (os.path.isfile('../input/linknet/top-weights-vgg19.h5')):\n",
    "    # Train VGG16 U-Net model\n",
    "    results_vgg19 = model_vgg19.fit(\n",
    "        train_generator,\n",
    "        steps_per_epoch=train_steps,\n",
    "        epochs=40,\n",
    "        callbacks=callbacks_vgg16,\n",
    "        validation_data=val_generator,\n",
    "        validation_steps=val_steps\n",
    "    )\n",
    "else:\n",
    "    model_vgg16.load_weights('../input/linknet/top-weights-vgg19.h5')"
   ]
  },
  {
   "cell_type": "code",
   "execution_count": 30,
   "metadata": {
    "_cell_guid": "62b9ccaa-8be6-4591-8714-d92958712097",
    "_uuid": "ebed600b-55e0-421a-8c48-7b4623556656",
    "collapsed": false,
    "execution": {
     "iopub.execute_input": "2024-11-03T18:44:27.878118Z",
     "iopub.status.busy": "2024-11-03T18:44:27.877704Z",
     "iopub.status.idle": "2024-11-03T18:44:28.094700Z",
     "shell.execute_reply": "2024-11-03T18:44:28.093903Z",
     "shell.execute_reply.started": "2024-11-03T18:44:27.878080Z"
    },
    "jupyter": {
     "outputs_hidden": false
    },
    "papermill": {
     "duration": 0.255419,
     "end_time": "2021-07-05T21:37:40.365742",
     "exception": false,
     "start_time": "2021-07-05T21:37:40.110323",
     "status": "completed"
    },
    "tags": []
   },
   "outputs": [],
   "source": [
    "model_vgg19.save_weights('top-weights-vgg19.h5')"
   ]
  },
  {
   "cell_type": "code",
   "execution_count": 31,
   "metadata": {
    "_cell_guid": "b8384ef4-a715-4d1f-9913-acdebfd8cb15",
    "_uuid": "c07f7259-1de3-4133-9751-cb4cc1cdf47a",
    "collapsed": false,
    "execution": {
     "iopub.execute_input": "2024-11-03T18:44:53.873189Z",
     "iopub.status.busy": "2024-11-03T18:44:53.872860Z",
     "iopub.status.idle": "2024-11-03T18:44:53.878823Z",
     "shell.execute_reply": "2024-11-03T18:44:53.877909Z",
     "shell.execute_reply.started": "2024-11-03T18:44:53.873161Z"
    },
    "jupyter": {
     "outputs_hidden": false
    },
    "papermill": {
     "duration": 0.108831,
     "end_time": "2021-07-05T21:41:58.58177",
     "exception": false,
     "start_time": "2021-07-05T21:41:58.472939",
     "status": "completed"
    },
    "tags": []
   },
   "outputs": [
    {
     "data": {
      "text/plain": [
       "dict_keys(['loss', 'dice_coef', 'accuracy'])"
      ]
     },
     "execution_count": 31,
     "metadata": {},
     "output_type": "execute_result"
    }
   ],
   "source": [
    "results_vgg19.history.keys()"
   ]
  },
  {
   "cell_type": "code",
   "execution_count": 32,
   "metadata": {
    "_cell_guid": "e037a51b-f5fc-46d3-b4a9-a58c96bfb68e",
    "_uuid": "01369ba2-8db5-4c60-a4aa-43fb07ef7fb8",
    "collapsed": false,
    "execution": {
     "iopub.execute_input": "2024-11-03T18:44:56.581616Z",
     "iopub.status.busy": "2024-11-03T18:44:56.581288Z",
     "iopub.status.idle": "2024-11-03T18:44:56.586052Z",
     "shell.execute_reply": "2024-11-03T18:44:56.585051Z",
     "shell.execute_reply.started": "2024-11-03T18:44:56.581587Z"
    },
    "jupyter": {
     "outputs_hidden": false
    },
    "papermill": {
     "duration": 0.107936,
     "end_time": "2021-07-05T21:41:58.791329",
     "exception": false,
     "start_time": "2021-07-05T21:41:58.683393",
     "status": "completed"
    },
    "tags": []
   },
   "outputs": [],
   "source": [
    "loss = results_vgg19.history[\"loss\"]\n",
    "# val_loss = results.history[\"val_loss\"]\n",
    "\n",
    "dice_coef = results_vgg19.history[\"dice_coef\"]\n",
    "# val_dice_coef = results.history[\"val_dice_coef\"]\n",
    "\n",
    "acc = results_vgg19.history[\"accuracy\"]\n",
    "# val_acc = results.history[\"val_accuracy\"]"
   ]
  },
  {
   "cell_type": "code",
   "execution_count": 33,
   "metadata": {
    "_cell_guid": "92a8303a-b014-411b-9bef-224d7e7c9824",
    "_uuid": "c355550e-cda4-4999-b07b-e4ed346866c9",
    "collapsed": false,
    "execution": {
     "iopub.execute_input": "2024-11-03T18:45:02.723065Z",
     "iopub.status.busy": "2024-11-03T18:45:02.722695Z",
     "iopub.status.idle": "2024-11-03T18:45:02.910513Z",
     "shell.execute_reply": "2024-11-03T18:45:02.909648Z",
     "shell.execute_reply.started": "2024-11-03T18:45:02.723032Z"
    },
    "jupyter": {
     "outputs_hidden": false
    },
    "papermill": {
     "duration": 0.24892,
     "end_time": "2021-07-05T21:41:59.140789",
     "exception": false,
     "start_time": "2021-07-05T21:41:58.891869",
     "status": "completed"
    },
    "tags": []
   },
   "outputs": [
    {
     "data": {
      "text/plain": [
       "<matplotlib.legend.Legend at 0x7c141ec6f550>"
      ]
     },
     "execution_count": 33,
     "metadata": {},
     "output_type": "execute_result"
    },
    {
     "data": {
      "image/png": "[encoded data removed]",
      "text/plain": [
       "<Figure size 432x288 with 1 Axes>"
      ]
     },
     "metadata": {
      "needs_background": "light"
     },
     "output_type": "display_data"
    }
   ],
   "source": [
    "plt.plot(loss,label = \"loss\")\n",
    "# plt.plot(val_loss,label  = \"val loss\")\n",
    "plt.xlabel(\"iterations\")\n",
    "# plt.ylabel(\"X axis label\")\n",
    "plt.legend()"
   ]
  },
  {
   "cell_type": "code",
   "execution_count": 34,
   "metadata": {
    "_cell_guid": "60058f75-b800-4a13-852a-1e1d0fb416a8",
    "_uuid": "34bf876c-ed6c-4fa6-b1aa-2d600dd8177f",
    "collapsed": false,
    "execution": {
     "iopub.execute_input": "2024-11-03T18:45:07.834258Z",
     "iopub.status.busy": "2024-11-03T18:45:07.833919Z",
     "iopub.status.idle": "2024-11-03T18:45:08.005427Z",
     "shell.execute_reply": "2024-11-03T18:45:08.004611Z",
     "shell.execute_reply.started": "2024-11-03T18:45:07.834229Z"
    },
    "jupyter": {
     "outputs_hidden": false
    },
    "papermill": {
     "duration": 0.24884,
     "end_time": "2021-07-05T21:41:59.49198",
     "exception": false,
     "start_time": "2021-07-05T21:41:59.24314",
     "status": "completed"
    },
    "tags": []
   },
   "outputs": [
    {
     "data": {
      "text/plain": [
       "<matplotlib.legend.Legend at 0x7c141ebd8410>"
      ]
     },
     "execution_count": 34,
     "metadata": {},
     "output_type": "execute_result"
    },
    {
     "data": {
      "image/png": "[encoded data removed]",
      "text/plain": [
       "<Figure size 432x288 with 1 Axes>"
      ]
     },
     "metadata": {
      "needs_background": "light"
     },
     "output_type": "display_data"
    }
   ],
   "source": [
    "plt.plot(dice_coef,label = \"dice_coef\")\n",
    "# plt.plot(val_dice_coef,label  = \"val dice_coef\")\n",
    "plt.xlabel(\"iterations\")\n",
    "# plt.ylabel(\"X axis label\")\n",
    "plt.legend()"
   ]
  },
  {
   "cell_type": "code",
   "execution_count": 35,
   "metadata": {
    "_cell_guid": "2b785061-dfa2-4c8e-a2cc-08f0410b50da",
    "_uuid": "9b881e9b-34bc-4c13-a5b2-39b977d53463",
    "collapsed": false,
    "execution": {
     "iopub.execute_input": "2024-11-03T18:45:14.664405Z",
     "iopub.status.busy": "2024-11-03T18:45:14.664080Z",
     "iopub.status.idle": "2024-11-03T18:45:14.824667Z",
     "shell.execute_reply": "2024-11-03T18:45:14.823757Z",
     "shell.execute_reply.started": "2024-11-03T18:45:14.664377Z"
    },
    "jupyter": {
     "outputs_hidden": false
    },
    "papermill": {
     "duration": 0.258424,
     "end_time": "2021-07-05T21:41:59.853751",
     "exception": false,
     "start_time": "2021-07-05T21:41:59.595327",
     "status": "completed"
    },
    "tags": []
   },
   "outputs": [
    {
     "data": {
      "text/plain": [
       "<matplotlib.legend.Legend at 0x7c141eb5ce10>"
      ]
     },
     "execution_count": 35,
     "metadata": {},
     "output_type": "execute_result"
    },
    {
     "data": {
      "image/png": "[encoded data removed]",
      "text/plain": [
       "<Figure size 432x288 with 1 Axes>"
      ]
     },
     "metadata": {
      "needs_background": "light"
     },
     "output_type": "display_data"
    }
   ],
   "source": [
    "plt.plot(acc,label = \"acc\")\n",
    "# plt.plot(val_acc,label  = \"val acc\")\n",
    "plt.xlabel(\"iterations\")\n",
    "# plt.ylabel(\"X axis label\")\n",
    "plt.legend()"
   ]
  },
  {
   "cell_type": "markdown",
   "metadata": {},
   "source": [
    "## U-net Custom Model"
   ]
  },
  {
   "cell_type": "code",
   "execution_count": 42,
   "metadata": {
    "execution": {
     "iopub.execute_input": "2024-11-03T18:46:25.823901Z",
     "iopub.status.busy": "2024-11-03T18:46:25.823503Z",
     "iopub.status.idle": "2024-11-03T20:58:02.245804Z",
     "shell.execute_reply": "2024-11-03T20:58:02.244914Z",
     "shell.execute_reply.started": "2024-11-03T18:46:25.823860Z"
    }
   },
   "outputs": [
    {
     "name": "stdout",
     "output_type": "stream",
     "text": [
      "Epoch 1/40\n",
      "18/18 [==============================] - 223s 11s/step - loss: 0.2813 - dice_coef: 0.0856 - accuracy: 0.6890\n",
      "Epoch 2/40\n",
      "18/18 [==============================] - 197s 11s/step - loss: 0.1993 - dice_coef: 2.7597e-13 - accuracy: 0.7987\n",
      "Epoch 3/40\n",
      "18/18 [==============================] - 197s 11s/step - loss: 0.1976 - dice_coef: 2.7858e-13 - accuracy: 0.8004\n",
      "Epoch 4/40\n",
      "18/18 [==============================] - 197s 11s/step - loss: 0.1973 - dice_coef: 2.7815e-13 - accuracy: 0.8007\n",
      "Epoch 5/40\n",
      "18/18 [==============================] - 197s 11s/step - loss: 0.1992 - dice_coef: 2.7557e-13 - accuracy: 0.7988\n",
      "Epoch 6/40\n",
      "18/18 [==============================] - 197s 11s/step - loss: 0.1974 - dice_coef: 2.7815e-13 - accuracy: 0.8006\n",
      "Epoch 7/40\n",
      "18/18 [==============================] - 197s 11s/step - loss: 0.1934 - dice_coef: 2.8505e-13 - accuracy: 0.8046\n",
      "Epoch 8/40\n",
      "18/18 [==============================] - 197s 11s/step - loss: 0.2017 - dice_coef: 2.7254e-13 - accuracy: 0.7963\n",
      "Epoch 9/40\n",
      "18/18 [==============================] - 197s 11s/step - loss: 0.1979 - dice_coef: 2.7732e-13 - accuracy: 0.8001\n",
      "Epoch 10/40\n",
      "18/18 [==============================] - 197s 11s/step - loss: 0.1976 - dice_coef: 2.7826e-13 - accuracy: 0.8005\n",
      "Epoch 11/40\n",
      "18/18 [==============================] - 197s 11s/step - loss: 0.2004 - dice_coef: 2.7419e-13 - accuracy: 0.7976\n",
      "Epoch 12/40\n",
      "18/18 [==============================] - 197s 11s/step - loss: 0.1970 - dice_coef: 2.7929e-13 - accuracy: 0.8010\n",
      "Epoch 13/40\n",
      "18/18 [==============================] - 197s 11s/step - loss: 0.1964 - dice_coef: 2.7982e-13 - accuracy: 0.8016\n",
      "Epoch 14/40\n",
      "18/18 [==============================] - 197s 11s/step - loss: 0.2009 - dice_coef: 2.7387e-13 - accuracy: 0.7971\n",
      "Epoch 15/40\n",
      "18/18 [==============================] - 197s 11s/step - loss: 0.1968 - dice_coef: 2.7903e-13 - accuracy: 0.8012\n",
      "Epoch 16/40\n",
      "18/18 [==============================] - 197s 11s/step - loss: 0.1964 - dice_coef: 2.7954e-13 - accuracy: 0.8016\n",
      "Epoch 17/40\n",
      "18/18 [==============================] - 197s 11s/step - loss: 0.1956 - dice_coef: 2.8092e-13 - accuracy: 0.8024\n",
      "Epoch 18/40\n",
      "18/18 [==============================] - 197s 11s/step - loss: 0.1983 - dice_coef: 2.7673e-13 - accuracy: 0.7997\n",
      "Epoch 19/40\n",
      "18/18 [==============================] - 197s 11s/step - loss: 0.1946 - dice_coef: 2.8258e-13 - accuracy: 0.8035\n",
      "Epoch 20/40\n",
      "18/18 [==============================] - 197s 11s/step - loss: 0.1972 - dice_coef: 2.7834e-13 - accuracy: 0.8009\n",
      "Epoch 21/40\n",
      "18/18 [==============================] - 197s 11s/step - loss: 0.1988 - dice_coef: 2.7645e-13 - accuracy: 0.7992\n",
      "Epoch 22/40\n",
      "18/18 [==============================] - 197s 11s/step - loss: 0.1983 - dice_coef: 2.7692e-13 - accuracy: 0.7997\n",
      "Epoch 23/40\n",
      "18/18 [==============================] - 197s 11s/step - loss: 0.1981 - dice_coef: 2.7719e-13 - accuracy: 0.7999\n",
      "Epoch 24/40\n",
      "18/18 [==============================] - 197s 11s/step - loss: 0.2013 - dice_coef: 2.7319e-13 - accuracy: 0.7967\n",
      "Epoch 25/40\n",
      "18/18 [==============================] - 197s 11s/step - loss: 0.1973 - dice_coef: 2.7885e-13 - accuracy: 0.8008\n",
      "Epoch 26/40\n",
      "18/18 [==============================] - 197s 11s/step - loss: 0.1992 - dice_coef: 2.7601e-13 - accuracy: 0.7988\n",
      "Epoch 27/40\n",
      "18/18 [==============================] - 197s 11s/step - loss: 0.1990 - dice_coef: 2.7562e-13 - accuracy: 0.7990\n",
      "Epoch 28/40\n",
      "18/18 [==============================] - 197s 11s/step - loss: 0.1999 - dice_coef: 2.7453e-13 - accuracy: 0.7981\n",
      "Epoch 29/40\n",
      "18/18 [==============================] - 197s 11s/step - loss: 0.1994 - dice_coef: 2.7578e-13 - accuracy: 0.7986\n",
      "Epoch 30/40\n",
      "18/18 [==============================] - 197s 11s/step - loss: 0.1978 - dice_coef: 2.7783e-13 - accuracy: 0.8003\n",
      "Epoch 31/40\n",
      "18/18 [==============================] - 197s 11s/step - loss: 0.1962 - dice_coef: 2.7978e-13 - accuracy: 0.8018\n",
      "Epoch 32/40\n",
      "18/18 [==============================] - 197s 11s/step - loss: 0.1995 - dice_coef: 2.7548e-13 - accuracy: 0.7985\n",
      "Epoch 33/40\n",
      "18/18 [==============================] - 197s 11s/step - loss: 0.1959 - dice_coef: 2.8046e-13 - accuracy: 0.8022\n",
      "Epoch 34/40\n",
      "18/18 [==============================] - 197s 11s/step - loss: 0.1981 - dice_coef: 2.7764e-13 - accuracy: 0.7999\n",
      "Epoch 35/40\n",
      "18/18 [==============================] - 197s 11s/step - loss: 0.1964 - dice_coef: 2.7969e-13 - accuracy: 0.8016\n",
      "Epoch 36/40\n",
      "18/18 [==============================] - 197s 11s/step - loss: 0.1969 - dice_coef: 2.7864e-13 - accuracy: 0.8011\n",
      "Epoch 37/40\n",
      "18/18 [==============================] - 197s 11s/step - loss: 0.1951 - dice_coef: 2.8147e-13 - accuracy: 0.8030\n",
      "Epoch 38/40\n",
      "18/18 [==============================] - 197s 11s/step - loss: 0.1987 - dice_coef: 2.7666e-13 - accuracy: 0.7993\n",
      "Epoch 39/40\n",
      "18/18 [==============================] - 197s 11s/step - loss: 0.1980 - dice_coef: 2.7774e-13 - accuracy: 0.8000\n",
      "Epoch 40/40\n",
      "18/18 [==============================] - 197s 11s/step - loss: 0.1990 - dice_coef: 2.7622e-13 - accuracy: 0.7990\n"
     ]
    }
   ],
   "source": [
    "if not (os.path.isfile('../input/linknet/top-weights-custom-m.h5')):\n",
    "    results_custom = model_custom.fit(\n",
    "        train_generator,\n",
    "        steps_per_epoch=train_steps,\n",
    "        epochs=40,\n",
    "        callbacks=callbacks_vgg16,\n",
    "        validation_data=val_generator,\n",
    "        validation_steps=val_steps\n",
    "    )\n",
    "else:\n",
    "    model_custom.load_weights('../input/linknet/top-weights-custom-m.h5')"
   ]
  },
  {
   "cell_type": "code",
   "execution_count": 43,
   "metadata": {
    "execution": {
     "iopub.execute_input": "2024-11-03T21:02:19.334053Z",
     "iopub.status.busy": "2024-11-03T21:02:19.333537Z",
     "iopub.status.idle": "2024-11-03T21:02:19.561224Z",
     "shell.execute_reply": "2024-11-03T21:02:19.560293Z",
     "shell.execute_reply.started": "2024-11-03T21:02:19.334003Z"
    }
   },
   "outputs": [],
   "source": [
    "model_custom.save_weights('top-weights-custom-m.h5')"
   ]
  },
  {
   "cell_type": "code",
   "execution_count": 44,
   "metadata": {
    "execution": {
     "iopub.execute_input": "2024-11-03T21:02:22.937882Z",
     "iopub.status.busy": "2024-11-03T21:02:22.937468Z",
     "iopub.status.idle": "2024-11-03T21:02:22.943073Z",
     "shell.execute_reply": "2024-11-03T21:02:22.942127Z",
     "shell.execute_reply.started": "2024-11-03T21:02:22.937817Z"
    }
   },
   "outputs": [
    {
     "data": {
      "text/plain": [
       "dict_keys(['loss', 'dice_coef', 'accuracy'])"
      ]
     },
     "execution_count": 44,
     "metadata": {},
     "output_type": "execute_result"
    }
   ],
   "source": [
    "results_custom.history.keys()"
   ]
  },
  {
   "cell_type": "code",
   "execution_count": 45,
   "metadata": {
    "execution": {
     "iopub.execute_input": "2024-11-03T21:02:26.205711Z",
     "iopub.status.busy": "2024-11-03T21:02:26.205378Z",
     "iopub.status.idle": "2024-11-03T21:02:26.209829Z",
     "shell.execute_reply": "2024-11-03T21:02:26.209078Z",
     "shell.execute_reply.started": "2024-11-03T21:02:26.205681Z"
    }
   },
   "outputs": [],
   "source": [
    "loss = results_custom.history[\"loss\"]\n",
    "# val_loss = results.history[\"val_loss\"]\n",
    "\n",
    "dice_coef = results_custom.history[\"dice_coef\"]\n",
    "# val_dice_coef = results.history[\"val_dice_coef\"]\n",
    "\n",
    "acc = results_custom.history[\"accuracy\"]\n",
    "# val_acc = results.history[\"val_accuracy\"]"
   ]
  },
  {
   "cell_type": "code",
   "execution_count": 46,
   "metadata": {
    "execution": {
     "iopub.execute_input": "2024-11-03T21:02:29.182385Z",
     "iopub.status.busy": "2024-11-03T21:02:29.182046Z",
     "iopub.status.idle": "2024-11-03T21:02:29.342705Z",
     "shell.execute_reply": "2024-11-03T21:02:29.341940Z",
     "shell.execute_reply.started": "2024-11-03T21:02:29.182355Z"
    }
   },
   "outputs": [
    {
     "data": {
      "text/plain": [
       "<matplotlib.legend.Legend at 0x7c141eb88f10>"
      ]
     },
     "execution_count": 46,
     "metadata": {},
     "output_type": "execute_result"
    },
    {
     "data": {
      "image/png": "[encoded data removed]",
      "text/plain": [
       "<Figure size 432x288 with 1 Axes>"
      ]
     },
     "metadata": {
      "needs_background": "light"
     },
     "output_type": "display_data"
    }
   ],
   "source": [
    "plt.plot(loss,label = \"loss\")\n",
    "# plt.plot(val_loss,label  = \"val loss\")\n",
    "plt.xlabel(\"iterations\")\n",
    "# plt.ylabel(\"X axis label\")\n",
    "plt.legend()"
   ]
  },
  {
   "cell_type": "code",
   "execution_count": 47,
   "metadata": {
    "execution": {
     "iopub.execute_input": "2024-11-03T21:02:32.903484Z",
     "iopub.status.busy": "2024-11-03T21:02:32.903164Z",
     "iopub.status.idle": "2024-11-03T21:02:33.061148Z",
     "shell.execute_reply": "2024-11-03T21:02:33.060338Z",
     "shell.execute_reply.started": "2024-11-03T21:02:32.903455Z"
    }
   },
   "outputs": [
    {
     "data": {
      "text/plain": [
       "<matplotlib.legend.Legend at 0x7c141e6e2850>"
      ]
     },
     "execution_count": 47,
     "metadata": {},
     "output_type": "execute_result"
    },
    {
     "data": {
      "image/png": "[encoded data removed]",
      "text/plain": [
       "<Figure size 432x288 with 1 Axes>"
      ]
     },
     "metadata": {
      "needs_background": "light"
     },
     "output_type": "display_data"
    }
   ],
   "source": [
    "plt.plot(dice_coef,label = \"dice_coef\")\n",
    "# plt.plot(val_dice_coef,label  = \"val dice_coef\")\n",
    "plt.xlabel(\"iterations\")\n",
    "# plt.ylabel(\"X axis label\")\n",
    "plt.legend()"
   ]
  },
  {
   "cell_type": "code",
   "execution_count": 48,
   "metadata": {
    "execution": {
     "iopub.execute_input": "2024-11-03T21:02:36.286057Z",
     "iopub.status.busy": "2024-11-03T21:02:36.285701Z",
     "iopub.status.idle": "2024-11-03T21:02:36.451410Z",
     "shell.execute_reply": "2024-11-03T21:02:36.450571Z",
     "shell.execute_reply.started": "2024-11-03T21:02:36.286027Z"
    }
   },
   "outputs": [
    {
     "data": {
      "text/plain": [
       "<matplotlib.legend.Legend at 0x7c141e670ed0>"
      ]
     },
     "execution_count": 48,
     "metadata": {},
     "output_type": "execute_result"
    },
    {
     "data": {
      "image/png": "[encoded data removed]",
      "text/plain": [
       "<Figure size 432x288 with 1 Axes>"
      ]
     },
     "metadata": {
      "needs_background": "light"
     },
     "output_type": "display_data"
    }
   ],
   "source": [
    "plt.plot(acc,label = \"acc\")\n",
    "# plt.plot(val_acc,label  = \"val acc\")\n",
    "plt.xlabel(\"iterations\")\n",
    "# plt.ylabel(\"X axis label\")\n",
    "plt.legend()"
   ]
  },
  {
   "cell_type": "markdown",
   "metadata": {
    "_cell_guid": "5a08f97b-fa5b-477d-8a20-3570697e00f8",
    "_uuid": "8960f0e8-dea5-47ba-9779-bed2f989ab0c",
    "papermill": {
     "duration": 0.104369,
     "end_time": "2021-07-05T21:42:00.366742",
     "exception": false,
     "start_time": "2021-07-05T21:42:00.262373",
     "status": "completed"
    },
    "tags": []
   },
   "source": [
    "# Predictions"
   ]
  },
  {
   "cell_type": "markdown",
   "metadata": {
    "_cell_guid": "089b408b-c5f7-4ead-9ea4-b55330e5372f",
    "_uuid": "1dcfbbdc-f45f-4430-a0a6-12d775a1f17f",
    "papermill": {
     "duration": 0.103785,
     "end_time": "2021-07-05T21:42:00.57451",
     "exception": false,
     "start_time": "2021-07-05T21:42:00.470725",
     "status": "completed"
    },
    "tags": []
   },
   "source": [
    "**Function to make prediction \n",
    "Note:-  Dont forget to Normalise image dataset (here i divided every pixel by 255. )**"
   ]
  },
  {
   "cell_type": "code",
   "execution_count": 8,
   "metadata": {
    "_cell_guid": "11272d48-995d-48cb-8f73-12695891d581",
    "_uuid": "9fece648-aceb-425c-9673-ca1097a3c3ca",
    "collapsed": false,
    "jupyter": {
     "outputs_hidden": false
    },
    "papermill": {
     "duration": 0.113153,
     "end_time": "2021-07-05T21:42:00.791889",
     "exception": false,
     "start_time": "2021-07-05T21:42:00.678736",
     "status": "completed"
    },
    "tags": []
   },
   "outputs": [],
   "source": [
    "def make_prediction(model,image,shape):\n",
    "    img = img_to_array(load_img(image,target_size=shape))\n",
    "    img = np.expand_dims(img,axis=0)/255.\n",
    "    mask = model.predict(img)\n",
    "    mask = (mask[0] > 0.5)*1\n",
    "#   print(np.unique(mask,return_counts=True))\n",
    "    mask = np.reshape(mask,(224,224))\n",
    "    return mask"
   ]
  },
  {
   "cell_type": "code",
   "execution_count": 10,
   "metadata": {
    "_cell_guid": "21fb418f-de3f-4984-bc49-9c8ea73e9cf7",
    "_uuid": "61c50ed3-ab89-4115-a2b5-cd4e50bb40b7",
    "collapsed": false,
    "jupyter": {
     "outputs_hidden": false
    },
    "papermill": {
     "duration": 0.502302,
     "end_time": "2021-07-05T21:42:01.399339",
     "exception": false,
     "start_time": "2021-07-05T21:42:00.897037",
     "status": "completed"
    },
    "tags": []
   },
   "outputs": [
    {
     "ename": "FileNotFoundError",
     "evalue": "[Errno 2] No such file or directory: '/kaggle/input/concatenation-endo/cropped_train/instrument_dataset_1/images/frame000.jpg'",
     "output_type": "error",
     "traceback": [
      "\u001b[1;31m---------------------------------------------------------------------------\u001b[0m",
      "\u001b[1;31mFileNotFoundError\u001b[0m                         Traceback (most recent call last)",
      "Cell \u001b[1;32mIn[10], line 2\u001b[0m\n\u001b[0;32m      1\u001b[0m image \u001b[38;5;241m=\u001b[39m \u001b[38;5;124m\"\u001b[39m\u001b[38;5;124m/kaggle/input/concatenation-endo/cropped_train/instrument_dataset_1/images/frame000.jpg\u001b[39m\u001b[38;5;124m\"\u001b[39m\n\u001b[1;32m----> 2\u001b[0m img \u001b[38;5;241m=\u001b[39m img_to_array(load_img(image))\n\u001b[0;32m      3\u001b[0m plt\u001b[38;5;241m.\u001b[39mimshow(img\u001b[38;5;241m/\u001b[39m\u001b[38;5;241m255.\u001b[39m)\n\u001b[0;32m      4\u001b[0m img\u001b[38;5;241m.\u001b[39mshape\n",
      "File \u001b[1;32m~\\anaconda3\\Lib\\site-packages\\keras\\src\\utils\\image_utils.py:235\u001b[0m, in \u001b[0;36mload_img\u001b[1;34m(path, color_mode, target_size, interpolation, keep_aspect_ratio)\u001b[0m\n\u001b[0;32m    233\u001b[0m     \u001b[38;5;28;01mif\u001b[39;00m \u001b[38;5;28misinstance\u001b[39m(path, pathlib\u001b[38;5;241m.\u001b[39mPath):\n\u001b[0;32m    234\u001b[0m         path \u001b[38;5;241m=\u001b[39m \u001b[38;5;28mstr\u001b[39m(path\u001b[38;5;241m.\u001b[39mresolve())\n\u001b[1;32m--> 235\u001b[0m     \u001b[38;5;28;01mwith\u001b[39;00m \u001b[38;5;28mopen\u001b[39m(path, \u001b[38;5;124m\"\u001b[39m\u001b[38;5;124mrb\u001b[39m\u001b[38;5;124m\"\u001b[39m) \u001b[38;5;28;01mas\u001b[39;00m f:\n\u001b[0;32m    236\u001b[0m         img \u001b[38;5;241m=\u001b[39m pil_image\u001b[38;5;241m.\u001b[39mopen(io\u001b[38;5;241m.\u001b[39mBytesIO(f\u001b[38;5;241m.\u001b[39mread()))\n\u001b[0;32m    237\u001b[0m \u001b[38;5;28;01melse\u001b[39;00m:\n",
      "\u001b[1;31mFileNotFoundError\u001b[0m: [Errno 2] No such file or directory: '/kaggle/input/concatenation-endo/cropped_train/instrument_dataset_1/images/frame000.jpg'"
     ]
    }
   ],
   "source": [
    "image = \"/kaggle/input/concatenation-endo/cropped_train/instrument_dataset_1/images/frame000.jpg\"\n",
    "img = img_to_array(load_img(image))\n",
    "plt.imshow(img/255.)\n",
    "img.shape"
   ]
  },
  {
   "cell_type": "code",
   "execution_count": 92,
   "metadata": {
    "_cell_guid": "9af613ab-e62c-4c3a-a6b5-772085037377",
    "_uuid": "89ee0abe-5e10-47b9-b618-b41bbb38f642",
    "collapsed": false,
    "execution": {
     "iopub.execute_input": "2024-11-03T21:15:40.659647Z",
     "iopub.status.busy": "2024-11-03T21:15:40.659306Z",
     "iopub.status.idle": "2024-11-03T21:15:41.399246Z",
     "shell.execute_reply": "2024-11-03T21:15:41.398482Z",
     "shell.execute_reply.started": "2024-11-03T21:15:40.659615Z"
    },
    "jupyter": {
     "outputs_hidden": false
    },
    "papermill": {
     "duration": 0.920015,
     "end_time": "2021-07-05T21:42:02.428153",
     "exception": false,
     "start_time": "2021-07-05T21:42:01.508138",
     "status": "completed"
    },
    "tags": []
   },
   "outputs": [
    {
     "name": "stdout",
     "output_type": "stream",
     "text": [
      "(1024, 1280, 3) (224, 224, 3)\n"
     ]
    },
    {
     "data": {
      "text/plain": [
       "<matplotlib.image.AxesImage at 0x7c13b01ff610>"
      ]
     },
     "execution_count": 92,
     "metadata": {},
     "output_type": "execute_result"
    },
    {
     "data": {
      "image/png": "[encoded data removed]",
      "text/plain": [
       "<Figure size 432x288 with 1 Axes>"
      ]
     },
     "metadata": {
      "needs_background": "light"
     },
     "output_type": "display_data"
    }
   ],
   "source": [
    "mask = make_prediction(model_vgg16,image,(224,224,3))\n",
    "mask2 = cv2.merge([mask,mask,mask]).astype('float32')\n",
    "print(img.shape,mask2.shape)\n",
    "mask2 = cv2.resize(mask2,(img.shape[1],img.shape[0]))\n",
    "# print(mask.shape)\n",
    "plt.imshow(mask2)"
   ]
  },
  {
   "cell_type": "markdown",
   "metadata": {
    "_cell_guid": "6adc3912-1db9-47e4-aba0-9e1c81e6b240",
    "_uuid": "06838c8f-6d2e-4e8f-9ce8-035cda0fb15a",
    "papermill": {
     "duration": 0.109503,
     "end_time": "2021-07-05T21:42:02.648593",
     "exception": false,
     "start_time": "2021-07-05T21:42:02.53909",
     "status": "completed"
    },
    "tags": []
   },
   "source": [
    "**Now use the mask to get the segmented image**"
   ]
  },
  {
   "cell_type": "code",
   "execution_count": 93,
   "metadata": {
    "_cell_guid": "25a38eb7-a860-496b-807f-42ae59edc560",
    "_uuid": "496e2ebe-cec4-4814-a33a-a128e1eba83b",
    "collapsed": false,
    "execution": {
     "iopub.execute_input": "2024-11-03T21:15:46.818285Z",
     "iopub.status.busy": "2024-11-03T21:15:46.817934Z",
     "iopub.status.idle": "2024-11-03T21:15:46.919376Z",
     "shell.execute_reply": "2024-11-03T21:15:46.918560Z",
     "shell.execute_reply.started": "2024-11-03T21:15:46.818245Z"
    },
    "jupyter": {
     "outputs_hidden": false
    },
    "papermill": {
     "duration": 0.201201,
     "end_time": "2021-07-05T21:42:02.960138",
     "exception": false,
     "start_time": "2021-07-05T21:42:02.758937",
     "status": "completed"
    },
    "tags": []
   },
   "outputs": [],
   "source": [
    "h,w = img.shape[:2]\n",
    "mask_resized = cv2.resize(np.uint8(mask*1),(w,h))\n",
    "mask_resized = mask_resized != 0\n",
    "#print(np.unique(mask_resized,return_counts=True))\n",
    "segment = np.zeros((h,w,3))\n",
    "segment[:,:,0] = img[:,:,0]*mask_resized\n",
    "segment[:,:,1] = img[:,:,1]*mask_resized\n",
    "segment[:,:,2] = img[:,:,2]*mask_resized\n",
    "segment[np.where((segment == [0,0,0]).all(axis=2))] = [0,0,0]\n",
    "#img[np.where((img==[255,255,255]).all(axis=2))] = [0,0,0];"
   ]
  },
  {
   "cell_type": "code",
   "execution_count": 8,
   "metadata": {
    "_cell_guid": "631fc604-24d9-44a7-9a3a-ca1429fa52be",
    "_uuid": "03ee3603-c9e4-4238-975d-d1091d4d239f",
    "collapsed": false,
    "jupyter": {
     "outputs_hidden": false
    },
    "papermill": {
     "duration": 0.484655,
     "end_time": "2021-07-05T21:42:03.556089",
     "exception": false,
     "start_time": "2021-07-05T21:42:03.071434",
     "status": "completed"
    },
    "tags": []
   },
   "outputs": [
    {
     "ename": "NameError",
     "evalue": "name 'plt' is not defined",
     "output_type": "error",
     "traceback": [
      "\u001b[1;31m---------------------------------------------------------------------------\u001b[0m",
      "\u001b[1;31mNameError\u001b[0m                                 Traceback (most recent call last)",
      "Cell \u001b[1;32mIn[8], line 1\u001b[0m\n\u001b[1;32m----> 1\u001b[0m plt\u001b[38;5;241m.\u001b[39mfigure(figsize\u001b[38;5;241m=\u001b[39m(\u001b[38;5;241m8\u001b[39m,\u001b[38;5;241m8\u001b[39m))\n\u001b[0;32m      2\u001b[0m plt\u001b[38;5;241m.\u001b[39mimshow(segment\u001b[38;5;241m/\u001b[39m\u001b[38;5;241m255.\u001b[39m)\n",
      "\u001b[1;31mNameError\u001b[0m: name 'plt' is not defined"
     ]
    }
   ],
   "source": [
    "plt.figure(figsize=(8,8))\n",
    "plt.imshow(segment/255.)"
   ]
  },
  {
   "cell_type": "code",
   "execution_count": 95,
   "metadata": {
    "_cell_guid": "59523350-6d30-407c-8df2-e9430b572e9f",
    "_uuid": "19efe13f-5090-49c7-a392-e2d88d619722",
    "collapsed": false,
    "execution": {
     "iopub.execute_input": "2024-11-03T21:15:54.157819Z",
     "iopub.status.busy": "2024-11-03T21:15:54.157451Z",
     "iopub.status.idle": "2024-11-03T21:15:54.163236Z",
     "shell.execute_reply": "2024-11-03T21:15:54.162237Z",
     "shell.execute_reply.started": "2024-11-03T21:15:54.157783Z"
    },
    "jupyter": {
     "outputs_hidden": false
    }
   },
   "outputs": [],
   "source": [
    "def make_prediction(model, image_path, shape):\n",
    "    img = img_to_array(load_img(image_path, target_size=shape)) / 255.0\n",
    "    img_expanded = np.expand_dims(img, axis=0)\n",
    "    \n",
    "    # Predict the mask\n",
    "    mask = model.predict(img_expanded)\n",
    "    mask = (mask[0] > 0.5).astype(np.float32)\n",
    "    \n",
    "    return img, mask"
   ]
  },
  {
   "cell_type": "code",
   "execution_count": 4,
   "metadata": {
    "_cell_guid": "a5301a76-bc43-424a-94fd-ce0dab11454b",
    "_uuid": "dc55dec9-8656-4829-9f09-af61a1909b06",
    "collapsed": false,
    "jupyter": {
     "outputs_hidden": false
    }
   },
   "outputs": [
    {
     "ename": "NameError",
     "evalue": "name 'make_prediction' is not defined",
     "output_type": "error",
     "traceback": [
      "\u001b[1;31m---------------------------------------------------------------------------\u001b[0m",
      "\u001b[1;31mNameError\u001b[0m                                 Traceback (most recent call last)",
      "Cell \u001b[1;32mIn[4], line 5\u001b[0m\n\u001b[0;32m      2\u001b[0m image_path \u001b[38;5;241m=\u001b[39m \u001b[38;5;124m\"\u001b[39m\u001b[38;5;124m/kaggle/input/concatenation-endo/cropped_train/instrument_dataset_1/images/frame000.jpg\u001b[39m\u001b[38;5;124m\"\u001b[39m\n\u001b[0;32m      4\u001b[0m \u001b[38;5;66;03m# Generate predictions for both models\u001b[39;00m\n\u001b[1;32m----> 5\u001b[0m img_original, mask_vgg16 \u001b[38;5;241m=\u001b[39m make_prediction(model_vgg16, image_path, input_shape)\n\u001b[0;32m      6\u001b[0m _, mask_vgg19 \u001b[38;5;241m=\u001b[39m make_prediction(model_vgg19, image_path, input_shape)\n\u001b[0;32m      8\u001b[0m \u001b[38;5;66;03m# Convert masks to 3-channel for visualization\u001b[39;00m\n",
      "\u001b[1;31mNameError\u001b[0m: name 'make_prediction' is not defined"
     ]
    }
   ],
   "source": [
    "# Set the path to the image you want to test\n",
    "image_path = \"/kaggle/input/concatenation-endo/cropped_train/instrument_dataset_1/images/frame000.jpg\"\n",
    "\n",
    "# Generate predictions for both models\n",
    "img_original, mask_vgg16 = make_prediction(model_vgg16, image_path, input_shape)\n",
    "_, mask_vgg19 = make_prediction(model_vgg19, image_path, input_shape)\n",
    "\n",
    "# Convert masks to 3-channel for visualization\n",
    "mask_vgg16_rgb = cv2.merge([mask_vgg16]*3)\n",
    "mask_vgg19_rgb = cv2.merge([mask_vgg19]*3)\n",
    "\n",
    "# Resize masks to match the original image dimensions\n",
    "img_original_resized = cv2.resize(img_original, (mask_vgg16_rgb.shape[1], mask_vgg16_rgb.shape[0]))"
   ]
  },
  {
   "cell_type": "code",
   "execution_count": 6,
   "metadata": {},
   "outputs": [
    {
     "ename": "NameError",
     "evalue": "name 'plt' is not defined",
     "output_type": "error",
     "traceback": [
      "\u001b[1;31m---------------------------------------------------------------------------\u001b[0m",
      "\u001b[1;31mNameError\u001b[0m                                 Traceback (most recent call last)",
      "Cell \u001b[1;32mIn[6], line 2\u001b[0m\n\u001b[0;32m      1\u001b[0m \u001b[38;5;66;03m# Visualize the original image and predictions from both models\u001b[39;00m\n\u001b[1;32m----> 2\u001b[0m plt\u001b[38;5;241m.\u001b[39mfigure(figsize\u001b[38;5;241m=\u001b[39m(\u001b[38;5;241m12\u001b[39m, \u001b[38;5;241m8\u001b[39m))\n\u001b[0;32m      3\u001b[0m plt\u001b[38;5;241m.\u001b[39msubplot(\u001b[38;5;241m1\u001b[39m, \u001b[38;5;241m3\u001b[39m, \u001b[38;5;241m1\u001b[39m)\n\u001b[0;32m      4\u001b[0m plt\u001b[38;5;241m.\u001b[39mimshow(img_original_resized)\n",
      "\u001b[1;31mNameError\u001b[0m: name 'plt' is not defined"
     ]
    }
   ],
   "source": [
    "# Visualize the original image and predictions from both models\n",
    "plt.figure(figsize=(12, 8))\n",
    "plt.subplot(1, 3, 1)\n",
    "plt.imshow(img_original_resized)\n",
    "plt.title(\"Original Image\")\n",
    "\n",
    "plt.subplot(1, 3, 2)\n",
    "plt.imshow(mask_vgg16_rgb)\n",
    "plt.title(\"VGG16 U-Net Prediction\")\n",
    "\n",
    "plt.subplot(1, 3, 3)\n",
    "plt.imshow(mask_vgg19_rgb)\n",
    "plt.title(\"VGG19 U-Net Prediction\")\n",
    "\n",
    "plt.show()"
   ]
  },
  {
   "cell_type": "code",
   "execution_count": null,
   "metadata": {},
   "outputs": [],
   "source": []
  }
 ],
 "metadata": {
  "kaggle": {
   "accelerator": "nvidiaTeslaT4",
   "dataSources": [
    {
     "datasetId": 2798,
     "sourceId": 7251,
     "sourceType": "datasetVersion"
    },
    {
     "datasetId": 1449196,
     "sourceId": 2422119,
     "sourceType": "datasetVersion"
    }
   ],
   "dockerImageVersionId": 30097,
   "isGpuEnabled": true,
   "isInternetEnabled": true,
   "language": "python",
   "sourceType": "notebook"
  },
  "kernelspec": {
   "display_name": "Python 3 (ipykernel)",
   "language": "python",
   "name": "python3"
  },
  "language_info": {
   "codemirror_mode": {
    "name": "ipython",
    "version": 3
   },
   "file_extension": ".py",
   "mimetype": "text/x-python",
   "name": "python",
   "nbconvert_exporter": "python",
   "pygments_lexer": "ipython3",
   "version": "3.12.4"
  }
 },
 "nbformat": 4,
 "nbformat_minor": 4
}
